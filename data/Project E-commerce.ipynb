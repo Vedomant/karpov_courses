{
 "cells": [
  {
   "cell_type": "raw",
   "id": "dc315041",
   "metadata": {},
   "source": [
    "По результатам исследования данных (которое изложено ниже) мной были получены следующие ответы на поставленные вопросы:\n",
    "\n",
    "    1. Сколько у нас пользователей, которые совершили покупку только один раз?\n",
    "    \n",
    "        Количество клиентов с одной покупкой (заказом) - 92087 (id клиентов записаны в датасет 'only_one_buy').\n",
    "        \n",
    "        \n",
    "    2. Сколько заказов в месяц в среднем не доставляется по разным причинам (вывести детализацию по причинам)?\n",
    "    \n",
    "        Среднее количество по причине отмены заказа (canceled) составило - 22.93;\n",
    "        Среднее количество по причине отсутствия товара (unavailable) составило - 22.56;\n",
    "        Среднее количество одновременно по обеим причинам (unavailable & canceled) составило - 45.48.\n",
    "        \n",
    "        \n",
    "    3. По каждому товару определить, в какой день недели товар чаще всего покупается?\n",
    "    \n",
    "        Дни недели для каждого товара определены и указаны ниже в соответствующем разделе (также записаны в датасет 'items_top_days').\n",
    "        \n",
    "       \n",
    "    4. Сколько у каждого из пользователей в среднем покупок в неделю (по месяцам)?\n",
    "    \n",
    "        Средние покупки в неделю определены и записаны в датасет avg_orders_per_week.\n",
    "        \n",
    "    \n",
    "    5. Используя pandas, проведи когортный анализ пользователей. В период с января по декабрь выяви когорту с самым высоким retention на 3й месяц.\n",
    "    \n",
    "    В период с января по декабрь 2017 когорта с самым высоким retention на 3й месяц - \"сентябрь 2017\".\n",
    "    \n",
    "    \n",
    "    6. Используя python, построй RFM-сегментацию пользователей, чтобы качественно оценить свою аудиторию.\n",
    "    \n",
    "    Сегментация построена и сохранена в переменной \"RFM_final\". Выводы по вопросу изложены ниже в соответствующем разделе.\n",
    "    \n",
    "        \n",
    "Дополнительно выявлено следующее:\n",
    "    А. 383 товара имеют по датасету 'items' нулевой вес товара, что объясняется только ошибкой данных и требует корректировки;\n",
    "    Б. 8 заказов имеют статус доставлен (order_status == 'delivered'), но при этом отсутствует дата доставки (order_delivered_customer_date), что объясняется только ошибкой в данных и требует корректировки;\n",
    "    В. 14 заказов были доставлены, но не оплачены покупателями - сведения для отдела по взысканию дебиторской задолженности и/или корректировки данных (ведь мы исходим из того, что без оплаты не отправляем товар);\n",
    "    Г. 7826 заказов (около 8% от всех доставленных товаров) доставлены покупателям невовремя (с нарушением установленной для клиента даты доставки): служба доставки однозначно некачественно справляется со своей работой."
   ]
  },
  {
   "cell_type": "markdown",
   "id": "4d72bc15",
   "metadata": {},
   "source": [
    "#############################################"
   ]
  },
  {
   "cell_type": "markdown",
   "id": "d3c94087",
   "metadata": {},
   "source": [
    "ЧАСТЬ 1 (импорт библиотек)"
   ]
  },
  {
   "cell_type": "code",
   "execution_count": 2,
   "id": "cef9a1cf",
   "metadata": {},
   "outputs": [],
   "source": [
    "#импортирую необходимые библиотеки\n",
    "import numpy as np\n",
    "import pandas as pd\n",
    "import matplotlib.pyplot as plt\n",
    "import seaborn as sns\n",
    "import datetime\n",
    "from datetime import timedelta\n",
    "from scipy import stats\n",
    "import requests\n",
    "from urllib.parse import urlencode\n",
    "import warnings\n",
    "import string\n",
    "import names\n",
    "from IPython.display import Image\n",
    "from operator import attrgetter\n",
    "import matplotlib.colors as mcolors\n",
    "warnings.filterwarnings('ignore')\n",
    "plt.style.use('bmh')\n",
    "%matplotlib inline"
   ]
  },
  {
   "cell_type": "markdown",
   "id": "6b9af442",
   "metadata": {},
   "source": [
    "#############################################"
   ]
  },
  {
   "cell_type": "markdown",
   "id": "8c264135",
   "metadata": {},
   "source": [
    "ЧАСТЬ 2 (подготовка датасетов)"
   ]
  },
  {
   "cell_type": "code",
   "execution_count": 3,
   "id": "792170a4",
   "metadata": {},
   "outputs": [],
   "source": [
    "#загружаю датасет\n",
    "customers = pd.read_csv('C:\\\\temp\\\\firstproject\\\\olist_customers_dataset.csv')"
   ]
  },
  {
   "cell_type": "code",
   "execution_count": 4,
   "id": "16f5c9db",
   "metadata": {},
   "outputs": [
    {
     "data": {
      "text/html": [
       "<div>\n",
       "<style scoped>\n",
       "    .dataframe tbody tr th:only-of-type {\n",
       "        vertical-align: middle;\n",
       "    }\n",
       "\n",
       "    .dataframe tbody tr th {\n",
       "        vertical-align: top;\n",
       "    }\n",
       "\n",
       "    .dataframe thead th {\n",
       "        text-align: right;\n",
       "    }\n",
       "</style>\n",
       "<table border=\"1\" class=\"dataframe\">\n",
       "  <thead>\n",
       "    <tr style=\"text-align: right;\">\n",
       "      <th></th>\n",
       "      <th>customer_id</th>\n",
       "      <th>customer_unique_id</th>\n",
       "      <th>customer_zip_code_prefix</th>\n",
       "      <th>customer_city</th>\n",
       "      <th>customer_state</th>\n",
       "    </tr>\n",
       "  </thead>\n",
       "  <tbody>\n",
       "    <tr>\n",
       "      <th>0</th>\n",
       "      <td>06b8999e2fba1a1fbc88172c00ba8bc7</td>\n",
       "      <td>861eff4711a542e4b93843c6dd7febb0</td>\n",
       "      <td>14409</td>\n",
       "      <td>franca</td>\n",
       "      <td>SP</td>\n",
       "    </tr>\n",
       "    <tr>\n",
       "      <th>1</th>\n",
       "      <td>18955e83d337fd6b2def6b18a428ac77</td>\n",
       "      <td>290c77bc529b7ac935b93aa66c333dc3</td>\n",
       "      <td>9790</td>\n",
       "      <td>sao bernardo do campo</td>\n",
       "      <td>SP</td>\n",
       "    </tr>\n",
       "    <tr>\n",
       "      <th>2</th>\n",
       "      <td>4e7b3e00288586ebd08712fdd0374a03</td>\n",
       "      <td>060e732b5b29e8181a18229c7b0b2b5e</td>\n",
       "      <td>1151</td>\n",
       "      <td>sao paulo</td>\n",
       "      <td>SP</td>\n",
       "    </tr>\n",
       "    <tr>\n",
       "      <th>3</th>\n",
       "      <td>b2b6027bc5c5109e529d4dc6358b12c3</td>\n",
       "      <td>259dac757896d24d7702b9acbbff3f3c</td>\n",
       "      <td>8775</td>\n",
       "      <td>mogi das cruzes</td>\n",
       "      <td>SP</td>\n",
       "    </tr>\n",
       "    <tr>\n",
       "      <th>4</th>\n",
       "      <td>4f2d8ab171c80ec8364f7c12e35b23ad</td>\n",
       "      <td>345ecd01c38d18a9036ed96c73b8d066</td>\n",
       "      <td>13056</td>\n",
       "      <td>campinas</td>\n",
       "      <td>SP</td>\n",
       "    </tr>\n",
       "  </tbody>\n",
       "</table>\n",
       "</div>"
      ],
      "text/plain": [
       "                        customer_id                customer_unique_id  \\\n",
       "0  06b8999e2fba1a1fbc88172c00ba8bc7  861eff4711a542e4b93843c6dd7febb0   \n",
       "1  18955e83d337fd6b2def6b18a428ac77  290c77bc529b7ac935b93aa66c333dc3   \n",
       "2  4e7b3e00288586ebd08712fdd0374a03  060e732b5b29e8181a18229c7b0b2b5e   \n",
       "3  b2b6027bc5c5109e529d4dc6358b12c3  259dac757896d24d7702b9acbbff3f3c   \n",
       "4  4f2d8ab171c80ec8364f7c12e35b23ad  345ecd01c38d18a9036ed96c73b8d066   \n",
       "\n",
       "   customer_zip_code_prefix          customer_city customer_state  \n",
       "0                     14409                 franca             SP  \n",
       "1                      9790  sao bernardo do campo             SP  \n",
       "2                      1151              sao paulo             SP  \n",
       "3                      8775        mogi das cruzes             SP  \n",
       "4                     13056               campinas             SP  "
      ]
     },
     "execution_count": 4,
     "metadata": {},
     "output_type": "execute_result"
    }
   ],
   "source": [
    "#проверяю корректность загрузки данных и их отображение/структуру\n",
    "customers.head(5)"
   ]
  },
  {
   "cell_type": "code",
   "execution_count": 5,
   "id": "54b5bcd9",
   "metadata": {},
   "outputs": [
    {
     "data": {
      "text/plain": [
       "customer_id                 object\n",
       "customer_unique_id          object\n",
       "customer_zip_code_prefix     int64\n",
       "customer_city               object\n",
       "customer_state              object\n",
       "dtype: object"
      ]
     },
     "execution_count": 5,
     "metadata": {},
     "output_type": "execute_result"
    }
   ],
   "source": [
    "#проверяю формат данных в датасете\n",
    "customers.dtypes"
   ]
  },
  {
   "cell_type": "code",
   "execution_count": 6,
   "id": "2bcba98a",
   "metadata": {
    "scrolled": false
   },
   "outputs": [
    {
     "data": {
      "text/plain": [
       "customer_id                 0\n",
       "customer_unique_id          0\n",
       "customer_zip_code_prefix    0\n",
       "customer_city               0\n",
       "customer_state              0\n",
       "dtype: int64"
      ]
     },
     "execution_count": 6,
     "metadata": {},
     "output_type": "execute_result"
    }
   ],
   "source": [
    "#проверяю пропущенные значения в датасете - отсутствуют\n",
    "customers.isna().sum()"
   ]
  },
  {
   "cell_type": "code",
   "execution_count": 7,
   "id": "25fd2ef2",
   "metadata": {},
   "outputs": [],
   "source": [
    "#загружаю второй датасет, поскольку чтение типов данных далее показало, что даты нераспарсены, \n",
    "#передаю соответствующую команду на данные колонки\n",
    "orders = pd.read_csv('C:\\\\temp\\\\firstproject\\\\olist_orders_dataset.csv', parse_dates=[3,4,5,6,7])"
   ]
  },
  {
   "cell_type": "code",
   "execution_count": 8,
   "id": "d8c259c7",
   "metadata": {},
   "outputs": [
    {
     "data": {
      "text/html": [
       "<div>\n",
       "<style scoped>\n",
       "    .dataframe tbody tr th:only-of-type {\n",
       "        vertical-align: middle;\n",
       "    }\n",
       "\n",
       "    .dataframe tbody tr th {\n",
       "        vertical-align: top;\n",
       "    }\n",
       "\n",
       "    .dataframe thead th {\n",
       "        text-align: right;\n",
       "    }\n",
       "</style>\n",
       "<table border=\"1\" class=\"dataframe\">\n",
       "  <thead>\n",
       "    <tr style=\"text-align: right;\">\n",
       "      <th></th>\n",
       "      <th>order_id</th>\n",
       "      <th>customer_id</th>\n",
       "      <th>order_status</th>\n",
       "      <th>order_purchase_timestamp</th>\n",
       "      <th>order_approved_at</th>\n",
       "      <th>order_delivered_carrier_date</th>\n",
       "      <th>order_delivered_customer_date</th>\n",
       "      <th>order_estimated_delivery_date</th>\n",
       "    </tr>\n",
       "  </thead>\n",
       "  <tbody>\n",
       "    <tr>\n",
       "      <th>0</th>\n",
       "      <td>e481f51cbdc54678b7cc49136f2d6af7</td>\n",
       "      <td>9ef432eb6251297304e76186b10a928d</td>\n",
       "      <td>delivered</td>\n",
       "      <td>2017-10-02 10:56:33</td>\n",
       "      <td>2017-10-02 11:07:15</td>\n",
       "      <td>2017-10-04 19:55:00</td>\n",
       "      <td>2017-10-10 21:25:13</td>\n",
       "      <td>2017-10-18</td>\n",
       "    </tr>\n",
       "    <tr>\n",
       "      <th>1</th>\n",
       "      <td>53cdb2fc8bc7dce0b6741e2150273451</td>\n",
       "      <td>b0830fb4747a6c6d20dea0b8c802d7ef</td>\n",
       "      <td>delivered</td>\n",
       "      <td>2018-07-24 20:41:37</td>\n",
       "      <td>2018-07-26 03:24:27</td>\n",
       "      <td>2018-07-26 14:31:00</td>\n",
       "      <td>2018-08-07 15:27:45</td>\n",
       "      <td>2018-08-13</td>\n",
       "    </tr>\n",
       "    <tr>\n",
       "      <th>2</th>\n",
       "      <td>47770eb9100c2d0c44946d9cf07ec65d</td>\n",
       "      <td>41ce2a54c0b03bf3443c3d931a367089</td>\n",
       "      <td>delivered</td>\n",
       "      <td>2018-08-08 08:38:49</td>\n",
       "      <td>2018-08-08 08:55:23</td>\n",
       "      <td>2018-08-08 13:50:00</td>\n",
       "      <td>2018-08-17 18:06:29</td>\n",
       "      <td>2018-09-04</td>\n",
       "    </tr>\n",
       "    <tr>\n",
       "      <th>3</th>\n",
       "      <td>949d5b44dbf5de918fe9c16f97b45f8a</td>\n",
       "      <td>f88197465ea7920adcdbec7375364d82</td>\n",
       "      <td>delivered</td>\n",
       "      <td>2017-11-18 19:28:06</td>\n",
       "      <td>2017-11-18 19:45:59</td>\n",
       "      <td>2017-11-22 13:39:59</td>\n",
       "      <td>2017-12-02 00:28:42</td>\n",
       "      <td>2017-12-15</td>\n",
       "    </tr>\n",
       "    <tr>\n",
       "      <th>4</th>\n",
       "      <td>ad21c59c0840e6cb83a9ceb5573f8159</td>\n",
       "      <td>8ab97904e6daea8866dbdbc4fb7aad2c</td>\n",
       "      <td>delivered</td>\n",
       "      <td>2018-02-13 21:18:39</td>\n",
       "      <td>2018-02-13 22:20:29</td>\n",
       "      <td>2018-02-14 19:46:34</td>\n",
       "      <td>2018-02-16 18:17:02</td>\n",
       "      <td>2018-02-26</td>\n",
       "    </tr>\n",
       "  </tbody>\n",
       "</table>\n",
       "</div>"
      ],
      "text/plain": [
       "                           order_id                       customer_id  \\\n",
       "0  e481f51cbdc54678b7cc49136f2d6af7  9ef432eb6251297304e76186b10a928d   \n",
       "1  53cdb2fc8bc7dce0b6741e2150273451  b0830fb4747a6c6d20dea0b8c802d7ef   \n",
       "2  47770eb9100c2d0c44946d9cf07ec65d  41ce2a54c0b03bf3443c3d931a367089   \n",
       "3  949d5b44dbf5de918fe9c16f97b45f8a  f88197465ea7920adcdbec7375364d82   \n",
       "4  ad21c59c0840e6cb83a9ceb5573f8159  8ab97904e6daea8866dbdbc4fb7aad2c   \n",
       "\n",
       "  order_status order_purchase_timestamp   order_approved_at  \\\n",
       "0    delivered      2017-10-02 10:56:33 2017-10-02 11:07:15   \n",
       "1    delivered      2018-07-24 20:41:37 2018-07-26 03:24:27   \n",
       "2    delivered      2018-08-08 08:38:49 2018-08-08 08:55:23   \n",
       "3    delivered      2017-11-18 19:28:06 2017-11-18 19:45:59   \n",
       "4    delivered      2018-02-13 21:18:39 2018-02-13 22:20:29   \n",
       "\n",
       "  order_delivered_carrier_date order_delivered_customer_date  \\\n",
       "0          2017-10-04 19:55:00           2017-10-10 21:25:13   \n",
       "1          2018-07-26 14:31:00           2018-08-07 15:27:45   \n",
       "2          2018-08-08 13:50:00           2018-08-17 18:06:29   \n",
       "3          2017-11-22 13:39:59           2017-12-02 00:28:42   \n",
       "4          2018-02-14 19:46:34           2018-02-16 18:17:02   \n",
       "\n",
       "  order_estimated_delivery_date  \n",
       "0                    2017-10-18  \n",
       "1                    2018-08-13  \n",
       "2                    2018-09-04  \n",
       "3                    2017-12-15  \n",
       "4                    2018-02-26  "
      ]
     },
     "execution_count": 8,
     "metadata": {},
     "output_type": "execute_result"
    }
   ],
   "source": [
    "#проверяю корректность загрузки данных и их отображение/структуру\n",
    "orders.head(5)"
   ]
  },
  {
   "cell_type": "code",
   "execution_count": 9,
   "id": "bb20d7f4",
   "metadata": {},
   "outputs": [
    {
     "data": {
      "text/plain": [
       "order_id                                 object\n",
       "customer_id                              object\n",
       "order_status                             object\n",
       "order_purchase_timestamp         datetime64[ns]\n",
       "order_approved_at                datetime64[ns]\n",
       "order_delivered_carrier_date     datetime64[ns]\n",
       "order_delivered_customer_date    datetime64[ns]\n",
       "order_estimated_delivery_date    datetime64[ns]\n",
       "dtype: object"
      ]
     },
     "execution_count": 9,
     "metadata": {},
     "output_type": "execute_result"
    }
   ],
   "source": [
    "#проверяю формат данных в датасете, при первой проверке все даты были распознаны, как текст, \n",
    "#соответственно применена выше команда 'parse_dates' к нужным столбцам\n",
    "orders.dtypes"
   ]
  },
  {
   "cell_type": "code",
   "execution_count": 10,
   "id": "8c5e9193",
   "metadata": {
    "scrolled": false
   },
   "outputs": [
    {
     "data": {
      "text/plain": [
       "order_id                            0\n",
       "customer_id                         0\n",
       "order_status                        0\n",
       "order_purchase_timestamp            0\n",
       "order_approved_at                 160\n",
       "order_delivered_carrier_date     1783\n",
       "order_delivered_customer_date    2965\n",
       "order_estimated_delivery_date       0\n",
       "dtype: int64"
      ]
     },
     "execution_count": 10,
     "metadata": {},
     "output_type": "execute_result"
    }
   ],
   "source": [
    "#проверяю пропущенные значения в датасете - таковые имеются\n",
    "#однако нет основания считать данные пропуски аномалиями: все они относятся к датам на определенных этапах заказа,\n",
    "#буду считать, что пропуски означают то, что соответствующий этап еще не наступил\n",
    "orders.isna().sum()"
   ]
  },
  {
   "cell_type": "code",
   "execution_count": 11,
   "id": "6dd248c9",
   "metadata": {},
   "outputs": [],
   "source": [
    "#загружаю третий датасет\n",
    "items = pd.read_csv('C:\\\\temp\\\\firstproject\\\\olist_order_items_dataset.csv', parse_dates=['shipping_limit_date'])"
   ]
  },
  {
   "cell_type": "code",
   "execution_count": 12,
   "id": "3c63b7a2",
   "metadata": {
    "scrolled": true
   },
   "outputs": [
    {
     "data": {
      "text/html": [
       "<div>\n",
       "<style scoped>\n",
       "    .dataframe tbody tr th:only-of-type {\n",
       "        vertical-align: middle;\n",
       "    }\n",
       "\n",
       "    .dataframe tbody tr th {\n",
       "        vertical-align: top;\n",
       "    }\n",
       "\n",
       "    .dataframe thead th {\n",
       "        text-align: right;\n",
       "    }\n",
       "</style>\n",
       "<table border=\"1\" class=\"dataframe\">\n",
       "  <thead>\n",
       "    <tr style=\"text-align: right;\">\n",
       "      <th></th>\n",
       "      <th>order_id</th>\n",
       "      <th>order_item_id</th>\n",
       "      <th>product_id</th>\n",
       "      <th>seller_id</th>\n",
       "      <th>shipping_limit_date</th>\n",
       "      <th>price</th>\n",
       "      <th>freight_value</th>\n",
       "    </tr>\n",
       "  </thead>\n",
       "  <tbody>\n",
       "    <tr>\n",
       "      <th>0</th>\n",
       "      <td>00010242fe8c5a6d1ba2dd792cb16214</td>\n",
       "      <td>1</td>\n",
       "      <td>4244733e06e7ecb4970a6e2683c13e61</td>\n",
       "      <td>48436dade18ac8b2bce089ec2a041202</td>\n",
       "      <td>2017-09-19 09:45:35</td>\n",
       "      <td>58.90</td>\n",
       "      <td>13.29</td>\n",
       "    </tr>\n",
       "    <tr>\n",
       "      <th>1</th>\n",
       "      <td>00018f77f2f0320c557190d7a144bdd3</td>\n",
       "      <td>1</td>\n",
       "      <td>e5f2d52b802189ee658865ca93d83a8f</td>\n",
       "      <td>dd7ddc04e1b6c2c614352b383efe2d36</td>\n",
       "      <td>2017-05-03 11:05:13</td>\n",
       "      <td>239.90</td>\n",
       "      <td>19.93</td>\n",
       "    </tr>\n",
       "    <tr>\n",
       "      <th>2</th>\n",
       "      <td>000229ec398224ef6ca0657da4fc703e</td>\n",
       "      <td>1</td>\n",
       "      <td>c777355d18b72b67abbeef9df44fd0fd</td>\n",
       "      <td>5b51032eddd242adc84c38acab88f23d</td>\n",
       "      <td>2018-01-18 14:48:30</td>\n",
       "      <td>199.00</td>\n",
       "      <td>17.87</td>\n",
       "    </tr>\n",
       "    <tr>\n",
       "      <th>3</th>\n",
       "      <td>00024acbcdf0a6daa1e931b038114c75</td>\n",
       "      <td>1</td>\n",
       "      <td>7634da152a4610f1595efa32f14722fc</td>\n",
       "      <td>9d7a1d34a5052409006425275ba1c2b4</td>\n",
       "      <td>2018-08-15 10:10:18</td>\n",
       "      <td>12.99</td>\n",
       "      <td>12.79</td>\n",
       "    </tr>\n",
       "    <tr>\n",
       "      <th>4</th>\n",
       "      <td>00042b26cf59d7ce69dfabb4e55b4fd9</td>\n",
       "      <td>1</td>\n",
       "      <td>ac6c3623068f30de03045865e4e10089</td>\n",
       "      <td>df560393f3a51e74553ab94004ba5c87</td>\n",
       "      <td>2017-02-13 13:57:51</td>\n",
       "      <td>199.90</td>\n",
       "      <td>18.14</td>\n",
       "    </tr>\n",
       "  </tbody>\n",
       "</table>\n",
       "</div>"
      ],
      "text/plain": [
       "                           order_id  order_item_id  \\\n",
       "0  00010242fe8c5a6d1ba2dd792cb16214              1   \n",
       "1  00018f77f2f0320c557190d7a144bdd3              1   \n",
       "2  000229ec398224ef6ca0657da4fc703e              1   \n",
       "3  00024acbcdf0a6daa1e931b038114c75              1   \n",
       "4  00042b26cf59d7ce69dfabb4e55b4fd9              1   \n",
       "\n",
       "                         product_id                         seller_id  \\\n",
       "0  4244733e06e7ecb4970a6e2683c13e61  48436dade18ac8b2bce089ec2a041202   \n",
       "1  e5f2d52b802189ee658865ca93d83a8f  dd7ddc04e1b6c2c614352b383efe2d36   \n",
       "2  c777355d18b72b67abbeef9df44fd0fd  5b51032eddd242adc84c38acab88f23d   \n",
       "3  7634da152a4610f1595efa32f14722fc  9d7a1d34a5052409006425275ba1c2b4   \n",
       "4  ac6c3623068f30de03045865e4e10089  df560393f3a51e74553ab94004ba5c87   \n",
       "\n",
       "  shipping_limit_date   price  freight_value  \n",
       "0 2017-09-19 09:45:35   58.90          13.29  \n",
       "1 2017-05-03 11:05:13  239.90          19.93  \n",
       "2 2018-01-18 14:48:30  199.00          17.87  \n",
       "3 2018-08-15 10:10:18   12.99          12.79  \n",
       "4 2017-02-13 13:57:51  199.90          18.14  "
      ]
     },
     "execution_count": 12,
     "metadata": {},
     "output_type": "execute_result"
    }
   ],
   "source": [
    "#проверяю корректность загрузки данных и их отображение/структуру\n",
    "items.head(5)"
   ]
  },
  {
   "cell_type": "code",
   "execution_count": 13,
   "id": "e334f5f8",
   "metadata": {},
   "outputs": [
    {
     "data": {
      "text/plain": [
       "0         1\n",
       "72706     1\n",
       "72705     1\n",
       "72704     1\n",
       "72703     1\n",
       "         ..\n",
       "11950    19\n",
       "11951    20\n",
       "75122    20\n",
       "57316    20\n",
       "57317    21\n",
       "Name: order_item_id, Length: 112650, dtype: int64"
      ]
     },
     "execution_count": 13,
     "metadata": {},
     "output_type": "execute_result"
    }
   ],
   "source": [
    "#проверяю отсутствие нулевых и отрицательных значений по товарам в заказах - отсутствуют\n",
    "items['order_item_id'].sort_values()"
   ]
  },
  {
   "cell_type": "code",
   "execution_count": 14,
   "id": "3986fbfc",
   "metadata": {
    "scrolled": true
   },
   "outputs": [
    {
     "data": {
      "text/plain": [
       "27652        0.85\n",
       "87081        0.85\n",
       "48625        0.85\n",
       "57297        1.20\n",
       "57302        1.20\n",
       "           ...   \n",
       "11249     4690.00\n",
       "74336     4799.00\n",
       "107841    6499.00\n",
       "112233    6729.00\n",
       "3556      6735.00\n",
       "Name: price, Length: 112650, dtype: float64"
      ]
     },
     "execution_count": 14,
     "metadata": {},
     "output_type": "execute_result"
    }
   ],
   "source": [
    "#проверяю отсутствие нулевых и отрицательных значений по цене товара - отсутствует\n",
    "items['price'].sort_values()"
   ]
  },
  {
   "cell_type": "code",
   "execution_count": 15,
   "id": "b1cd6724",
   "metadata": {
    "scrolled": false
   },
   "outputs": [
    {
     "data": {
      "text/plain": [
       "81475      0.00\n",
       "47406      0.00\n",
       "51117      0.00\n",
       "15225      0.00\n",
       "94446      0.00\n",
       "          ...  \n",
       "16731    338.30\n",
       "69797    339.59\n",
       "28044    375.28\n",
       "3303     375.28\n",
       "73486    409.68\n",
       "Name: freight_value, Length: 112650, dtype: float64"
      ]
     },
     "execution_count": 15,
     "metadata": {},
     "output_type": "execute_result"
    }
   ],
   "source": [
    "#проверяю отсутствие нулевых и отрицательных значений по весу товара - имеются товары с нулевым весом\n",
    "items['freight_value'].sort_values()"
   ]
  },
  {
   "cell_type": "code",
   "execution_count": 16,
   "id": "c182f901",
   "metadata": {
    "scrolled": false
   },
   "outputs": [
    {
     "data": {
      "text/plain": [
       "freight_value\n",
       "0.0    383\n",
       "dtype: int64"
      ]
     },
     "execution_count": 16,
     "metadata": {},
     "output_type": "execute_result"
    }
   ],
   "source": [
    "#проверяю количество нулевых значений по весу товара - имеются товары с нулевым весом\n",
    "items.query(\"freight_value == 0\").value_counts('freight_value')"
   ]
  },
  {
   "cell_type": "code",
   "execution_count": 17,
   "id": "a4fbbf4e",
   "metadata": {
    "scrolled": true
   },
   "outputs": [],
   "source": [
    "#объединяю датасеты для того чтобы посмотреть в каких статусах присутствуют товары с нулевым весом\n",
    "all_orders = pd.merge(orders, items, how='left', on='order_id')"
   ]
  },
  {
   "cell_type": "code",
   "execution_count": 18,
   "id": "5c4a3bc8",
   "metadata": {
    "scrolled": true
   },
   "outputs": [
    {
     "data": {
      "text/plain": [
       "order_status\n",
       "delivered    381\n",
       "shipped        2\n",
       "dtype: int64"
      ]
     },
     "execution_count": 18,
     "metadata": {},
     "output_type": "execute_result"
    }
   ],
   "source": [
    "#поскольку нулевой вес присутствует только в заказах либо доставленных, либо уже отгруженных -\n",
    "#это явно ошибка данных, требующая корректировки\n",
    "all_orders.query(\"freight_value == 0\").value_counts('order_status')"
   ]
  },
  {
   "cell_type": "code",
   "execution_count": 19,
   "id": "33962211",
   "metadata": {},
   "outputs": [
    {
     "data": {
      "text/plain": [
       "order_id                       object\n",
       "order_item_id                   int64\n",
       "product_id                     object\n",
       "seller_id                      object\n",
       "shipping_limit_date    datetime64[ns]\n",
       "price                         float64\n",
       "freight_value                 float64\n",
       "dtype: object"
      ]
     },
     "execution_count": 19,
     "metadata": {},
     "output_type": "execute_result"
    }
   ],
   "source": [
    "#проверяю формат данных в датасете\n",
    "items.dtypes"
   ]
  },
  {
   "cell_type": "code",
   "execution_count": 20,
   "id": "4b0c3c9e",
   "metadata": {
    "scrolled": false
   },
   "outputs": [
    {
     "data": {
      "text/plain": [
       "0"
      ]
     },
     "execution_count": 20,
     "metadata": {},
     "output_type": "execute_result"
    }
   ],
   "source": [
    "#проверяю пропущенные значения в датасете - отсутствуют\n",
    "items.isnull().values.ravel().sum()"
   ]
  },
  {
   "cell_type": "markdown",
   "id": "0fe213c0",
   "metadata": {},
   "source": [
    "#############################################"
   ]
  },
  {
   "cell_type": "markdown",
   "id": "4a3a30c0",
   "metadata": {},
   "source": [
    "ЧАСТЬ 3 (Решаю вопрос №1)\n",
    "\n",
    "Сколько у нас пользователей, которые совершили покупку только один раз?"
   ]
  },
  {
   "cell_type": "code",
   "execution_count": 21,
   "id": "88f498b6",
   "metadata": {
    "scrolled": false
   },
   "outputs": [
    {
     "data": {
      "text/plain": [
       "delivered      96478\n",
       "shipped         1107\n",
       "canceled         625\n",
       "unavailable      609\n",
       "invoiced         314\n",
       "processing       301\n",
       "created            5\n",
       "approved           2\n",
       "Name: order_status, dtype: int64"
      ]
     },
     "execution_count": 21,
     "metadata": {},
     "output_type": "execute_result"
    }
   ],
   "source": [
    "#смотрю какие вообще у нас есть статусы заказов и каковы их численные показатели\n",
    "orders.order_status.value_counts()"
   ]
  },
  {
   "cell_type": "markdown",
   "id": "831699ba",
   "metadata": {},
   "source": [
    "Под совершенную покупку попадают все статусы кроме 'canceled' (заказ отменен - тут очевидно), а также 'unavailable' (нет товара в наличии - сделка не состоялась). \n",
    "\n",
    "Вторым важным признаком будет факт оплаты, мы не можем считать покупку совершенной, если не было факта оплаты заказа. Под оплатой считаем наличие данных по столбцу \"order_approved_at'."
   ]
  },
  {
   "cell_type": "code",
   "execution_count": 22,
   "id": "9ffbc8b7",
   "metadata": {},
   "outputs": [],
   "source": [
    "orders['paid'] = orders.order_approved_at.notna()"
   ]
  },
  {
   "cell_type": "code",
   "execution_count": 23,
   "id": "3db37bb3",
   "metadata": {
    "scrolled": true
   },
   "outputs": [],
   "source": [
    "#фильтрую заказы по статусам, а также оставляю только оплаченные заказы\n",
    "true_orders = orders.query(\"(order_status != 'unavailable') and \\\n",
    "                     (order_status != 'canceled') and \\\n",
    "                     (paid == True)\")"
   ]
  },
  {
   "cell_type": "code",
   "execution_count": 24,
   "id": "344dcda6",
   "metadata": {},
   "outputs": [
    {
     "data": {
      "text/plain": [
       "delivered     96464\n",
       "shipped        1107\n",
       "invoiced        314\n",
       "processing      301\n",
       "approved          2\n",
       "Name: order_status, dtype: int64"
      ]
     },
     "execution_count": 24,
     "metadata": {},
     "output_type": "execute_result"
    }
   ],
   "source": [
    "#проверяю количество полученных заказов после фильтрации\n",
    "true_orders.order_status.value_counts()"
   ]
  },
  {
   "cell_type": "code",
   "execution_count": 25,
   "id": "dcd0abe6",
   "metadata": {},
   "outputs": [],
   "source": [
    "#объединяю датасеты для того чтобы определить количество клиентов с одним заказом\n",
    "true_orders_CUid = pd.merge(true_orders, customers, how='left', on='customer_id')"
   ]
  },
  {
   "cell_type": "code",
   "execution_count": 26,
   "id": "51563f56",
   "metadata": {
    "scrolled": false
   },
   "outputs": [
    {
     "data": {
      "text/html": [
       "<div>\n",
       "<style scoped>\n",
       "    .dataframe tbody tr th:only-of-type {\n",
       "        vertical-align: middle;\n",
       "    }\n",
       "\n",
       "    .dataframe tbody tr th {\n",
       "        vertical-align: top;\n",
       "    }\n",
       "\n",
       "    .dataframe thead th {\n",
       "        text-align: right;\n",
       "    }\n",
       "</style>\n",
       "<table border=\"1\" class=\"dataframe\">\n",
       "  <thead>\n",
       "    <tr style=\"text-align: right;\">\n",
       "      <th></th>\n",
       "      <th>order_id</th>\n",
       "      <th>customer_id</th>\n",
       "      <th>order_status</th>\n",
       "      <th>order_purchase_timestamp</th>\n",
       "      <th>order_approved_at</th>\n",
       "      <th>order_delivered_carrier_date</th>\n",
       "      <th>order_delivered_customer_date</th>\n",
       "      <th>order_estimated_delivery_date</th>\n",
       "      <th>paid</th>\n",
       "      <th>customer_unique_id</th>\n",
       "      <th>customer_zip_code_prefix</th>\n",
       "      <th>customer_city</th>\n",
       "      <th>customer_state</th>\n",
       "    </tr>\n",
       "  </thead>\n",
       "  <tbody>\n",
       "    <tr>\n",
       "      <th>0</th>\n",
       "      <td>e481f51cbdc54678b7cc49136f2d6af7</td>\n",
       "      <td>9ef432eb6251297304e76186b10a928d</td>\n",
       "      <td>delivered</td>\n",
       "      <td>2017-10-02 10:56:33</td>\n",
       "      <td>2017-10-02 11:07:15</td>\n",
       "      <td>2017-10-04 19:55:00</td>\n",
       "      <td>2017-10-10 21:25:13</td>\n",
       "      <td>2017-10-18</td>\n",
       "      <td>True</td>\n",
       "      <td>7c396fd4830fd04220f754e42b4e5bff</td>\n",
       "      <td>3149</td>\n",
       "      <td>sao paulo</td>\n",
       "      <td>SP</td>\n",
       "    </tr>\n",
       "    <tr>\n",
       "      <th>1</th>\n",
       "      <td>53cdb2fc8bc7dce0b6741e2150273451</td>\n",
       "      <td>b0830fb4747a6c6d20dea0b8c802d7ef</td>\n",
       "      <td>delivered</td>\n",
       "      <td>2018-07-24 20:41:37</td>\n",
       "      <td>2018-07-26 03:24:27</td>\n",
       "      <td>2018-07-26 14:31:00</td>\n",
       "      <td>2018-08-07 15:27:45</td>\n",
       "      <td>2018-08-13</td>\n",
       "      <td>True</td>\n",
       "      <td>af07308b275d755c9edb36a90c618231</td>\n",
       "      <td>47813</td>\n",
       "      <td>barreiras</td>\n",
       "      <td>BA</td>\n",
       "    </tr>\n",
       "  </tbody>\n",
       "</table>\n",
       "</div>"
      ],
      "text/plain": [
       "                           order_id                       customer_id  \\\n",
       "0  e481f51cbdc54678b7cc49136f2d6af7  9ef432eb6251297304e76186b10a928d   \n",
       "1  53cdb2fc8bc7dce0b6741e2150273451  b0830fb4747a6c6d20dea0b8c802d7ef   \n",
       "\n",
       "  order_status order_purchase_timestamp   order_approved_at  \\\n",
       "0    delivered      2017-10-02 10:56:33 2017-10-02 11:07:15   \n",
       "1    delivered      2018-07-24 20:41:37 2018-07-26 03:24:27   \n",
       "\n",
       "  order_delivered_carrier_date order_delivered_customer_date  \\\n",
       "0          2017-10-04 19:55:00           2017-10-10 21:25:13   \n",
       "1          2018-07-26 14:31:00           2018-08-07 15:27:45   \n",
       "\n",
       "  order_estimated_delivery_date  paid                customer_unique_id  \\\n",
       "0                    2017-10-18  True  7c396fd4830fd04220f754e42b4e5bff   \n",
       "1                    2018-08-13  True  af07308b275d755c9edb36a90c618231   \n",
       "\n",
       "   customer_zip_code_prefix customer_city customer_state  \n",
       "0                      3149     sao paulo             SP  \n",
       "1                     47813     barreiras             BA  "
      ]
     },
     "execution_count": 26,
     "metadata": {},
     "output_type": "execute_result"
    }
   ],
   "source": [
    "#проверяю визуально результат объединения\n",
    "true_orders_CUid.head(2)"
   ]
  },
  {
   "cell_type": "code",
   "execution_count": 27,
   "id": "8c1ea8df",
   "metadata": {},
   "outputs": [
    {
     "data": {
      "text/plain": [
       "92087"
      ]
     },
     "execution_count": 27,
     "metadata": {},
     "output_type": "execute_result"
    }
   ],
   "source": [
    "#делаю группировку и отбор уникальных клиентов только с одним заказом, выводим результат\n",
    "only_one_buy = true_orders_CUid.groupby('customer_unique_id', as_index=False) \\\n",
    "                                        .agg({'customer_id': 'count'}) \\\n",
    "                                        .rename(columns={'customer_id': 'buy_counter'}) \\\n",
    "                                        .query('buy_counter == 1')\n",
    "only_one_buy.shape[0]"
   ]
  },
  {
   "cell_type": "markdown",
   "id": "165226c8",
   "metadata": {},
   "source": [
    "Количество клиентов с одним заказом - 92087."
   ]
  },
  {
   "cell_type": "markdown",
   "id": "6880f49b",
   "metadata": {},
   "source": [
    "ЧАСТЬ 4 (Решаю вопрос №2) \n",
    "\n",
    "Сколько заказов в месяц в среднем не доставляется по разным причинам (вывести детализацию по причинам)?"
   ]
  },
  {
   "cell_type": "markdown",
   "id": "11e2e7f0",
   "metadata": {},
   "source": [
    "##############################################################################"
   ]
  },
  {
   "cell_type": "code",
   "execution_count": 28,
   "id": "ba7a3e55",
   "metadata": {
    "scrolled": false
   },
   "outputs": [
    {
     "data": {
      "text/plain": [
       "delivered      96478\n",
       "shipped         1107\n",
       "canceled         625\n",
       "unavailable      609\n",
       "invoiced         314\n",
       "processing       301\n",
       "created            5\n",
       "approved           2\n",
       "Name: order_status, dtype: int64"
      ]
     },
     "execution_count": 28,
     "metadata": {},
     "output_type": "execute_result"
    }
   ],
   "source": [
    "#смотрю еще раз какие вообще у нас есть статусы заказов\n",
    "orders.order_status.value_counts()"
   ]
  },
  {
   "cell_type": "code",
   "execution_count": 29,
   "id": "3e66a2d3",
   "metadata": {
    "scrolled": true
   },
   "outputs": [
    {
     "data": {
      "text/plain": [
       "True    6\n",
       "Name: delivered, dtype: int64"
      ]
     },
     "execution_count": 29,
     "metadata": {},
     "output_type": "execute_result"
    }
   ],
   "source": [
    "#создаю новый столбец с булевым значением - для проверки доставлен ли заказ покупателю\n",
    "#и сразу проверю были ли отмененные заказы доставлены - да их было 6 штук\n",
    "orders['delivered'] = orders.order_delivered_customer_date.notna()\n",
    "orders.query(\"(order_status == 'canceled') and \\\n",
    "                     (delivered == True)\").delivered.value_counts()"
   ]
  },
  {
   "cell_type": "code",
   "execution_count": 30,
   "id": "aedf5a7a",
   "metadata": {},
   "outputs": [
    {
     "data": {
      "text/plain": [
       "False    8\n",
       "Name: delivered, dtype: int64"
      ]
     },
     "execution_count": 30,
     "metadata": {},
     "output_type": "execute_result"
    }
   ],
   "source": [
    "#проверю имеют ли заказы статус доставлен, но при этом отсутствует дата доставки - да, таких было 8\n",
    "#здесь явная аномалия, однако нет повода считать заказ недоставленным, видимо здесь ошибка в данных и нужна корректировка\n",
    "orders.query(\"(order_status == 'delivered') and \\\n",
    "                     (delivered == False)\").delivered.value_counts()"
   ]
  },
  {
   "cell_type": "code",
   "execution_count": 31,
   "id": "28006adb",
   "metadata": {},
   "outputs": [
    {
     "data": {
      "text/plain": [
       "Series([], Name: delivered, dtype: int64)"
      ]
     },
     "execution_count": 31,
     "metadata": {},
     "output_type": "execute_result"
    }
   ],
   "source": [
    "#проверю были ли недоступные заказы доставлены - нет, таковых не было\n",
    "orders.query(\"(order_status == 'unavailable') and \\\n",
    "                     (delivered == True)\").delivered.value_counts()"
   ]
  },
  {
   "cell_type": "code",
   "execution_count": 32,
   "id": "8b238578",
   "metadata": {},
   "outputs": [
    {
     "data": {
      "text/plain": [
       "True    14\n",
       "Name: delivered, dtype: int64"
      ]
     },
     "execution_count": 32,
     "metadata": {},
     "output_type": "execute_result"
    }
   ],
   "source": [
    "#пользуясь случаем проверю, были ли доставленные товары, которые не были оплачены клиентами - да их было 14\n",
    "orders.query(\"(order_status == 'delivered') and \\\n",
    "                     (delivered == True) and \\\n",
    "                     (paid == False)\").delivered.value_counts()"
   ]
  },
  {
   "cell_type": "code",
   "execution_count": 33,
   "id": "1d7063c0",
   "metadata": {},
   "outputs": [
    {
     "data": {
      "text/plain": [
       "True    7826\n",
       "Name: delivered, dtype: int64"
      ]
     },
     "execution_count": 33,
     "metadata": {},
     "output_type": "execute_result"
    }
   ],
   "source": [
    "#а теперь посмотрю сколько товаров доставлено за пределами срока предполагаемой доставки:\n",
    "#то есть \"order_estimated_delivery_date\" меньше чем \"order_delivered_customer_date\"\n",
    "#оказывается у нас проблемы - около 8 тысяч заказов доставлены не вовремя\n",
    "orders.query(\"(order_status == 'delivered') and \\\n",
    "                     (delivered == True) and \\\n",
    "             (order_estimated_delivery_date < order_delivered_customer_date)\").delivered.value_counts()"
   ]
  },
  {
   "cell_type": "markdown",
   "id": "eec7d58a",
   "metadata": {},
   "source": [
    "Исходя из изложенного выше следует, что под категорию недоставленных заказов я буду отбирать следующие категории:\n",
    " 1. Заказ отменен (order_status == 'canceled'), за исключением тех 6 случаев, когда товар уже был доставлен на момент отмены - это не наша вина и данные заказы не нужно учитывать;\n",
    " 2. Нет товара в наличии - сделка не состоялась (order_status == 'unavailable')."
   ]
  },
  {
   "cell_type": "code",
   "execution_count": 34,
   "id": "4d488dd6",
   "metadata": {},
   "outputs": [],
   "source": [
    "#готовлю датасеты с заказами, которые имеют указанные выше статусы\n",
    "undelivered = orders.query(\"(order_status == 'unavailable') or \\\n",
    "                    (order_status == 'canceled') and \\\n",
    "                    (delivered == False)\")\n",
    "undelivered_status = undelivered.groupby('order_status') \\\n",
    "                .agg({'order_id' : 'count'}) \\\n",
    "                .rename(columns={'order_id' : 'count'}) \\\n",
    "                .reset_index()"
   ]
  },
  {
   "cell_type": "code",
   "execution_count": 35,
   "id": "0f2c3b5e",
   "metadata": {
    "scrolled": false
   },
   "outputs": [
    {
     "data": {
      "text/html": [
       "<div>\n",
       "<style scoped>\n",
       "    .dataframe tbody tr th:only-of-type {\n",
       "        vertical-align: middle;\n",
       "    }\n",
       "\n",
       "    .dataframe tbody tr th {\n",
       "        vertical-align: top;\n",
       "    }\n",
       "\n",
       "    .dataframe thead th {\n",
       "        text-align: right;\n",
       "    }\n",
       "</style>\n",
       "<table border=\"1\" class=\"dataframe\">\n",
       "  <thead>\n",
       "    <tr style=\"text-align: right;\">\n",
       "      <th></th>\n",
       "      <th>order_status</th>\n",
       "      <th>count</th>\n",
       "    </tr>\n",
       "  </thead>\n",
       "  <tbody>\n",
       "    <tr>\n",
       "      <th>0</th>\n",
       "      <td>canceled</td>\n",
       "      <td>619</td>\n",
       "    </tr>\n",
       "    <tr>\n",
       "      <th>1</th>\n",
       "      <td>unavailable</td>\n",
       "      <td>609</td>\n",
       "    </tr>\n",
       "  </tbody>\n",
       "</table>\n",
       "</div>"
      ],
      "text/plain": [
       "  order_status  count\n",
       "0     canceled    619\n",
       "1  unavailable    609"
      ]
     },
     "execution_count": 35,
     "metadata": {},
     "output_type": "execute_result"
    }
   ],
   "source": [
    "#смотрю сколько у нас всего недоставленных заказов в шт. с разбивкой по их статусам\n",
    "undelivered_status"
   ]
  },
  {
   "cell_type": "code",
   "execution_count": 36,
   "id": "a113facc",
   "metadata": {
    "scrolled": false
   },
   "outputs": [],
   "source": [
    "#записываю числовые данные строк в переменные для последующих расчетов\n",
    "canceled_count = undelivered_status['count'].loc[undelivered_status.index[0]]\n",
    "unavailable_count = undelivered_status['count'].loc[undelivered_status.index[1]]"
   ]
  },
  {
   "cell_type": "code",
   "execution_count": 37,
   "id": "d5a70ff8",
   "metadata": {
    "scrolled": true
   },
   "outputs": [],
   "source": [
    "#определять среднее по отсутствию доставки будем по столбцу 'estimated_delivery_date',\n",
    "#кстати, проверка в самом начале показала, что в нем нет пропущенных значений,\n",
    "#также перевел формат столбца обещанной даты доставки к фортмату \"год/месяц\" в новый столбец\n",
    "undelivered['estimated_delivery'] = undelivered.order_estimated_delivery_date.apply(lambda x: x.strftime('%Y-%m'))"
   ]
  },
  {
   "cell_type": "code",
   "execution_count": 38,
   "id": "5f8d7a15",
   "metadata": {},
   "outputs": [
    {
     "data": {
      "text/html": [
       "<div>\n",
       "<style scoped>\n",
       "    .dataframe tbody tr th:only-of-type {\n",
       "        vertical-align: middle;\n",
       "    }\n",
       "\n",
       "    .dataframe tbody tr th {\n",
       "        vertical-align: top;\n",
       "    }\n",
       "\n",
       "    .dataframe thead th {\n",
       "        text-align: right;\n",
       "    }\n",
       "</style>\n",
       "<table border=\"1\" class=\"dataframe\">\n",
       "  <thead>\n",
       "    <tr style=\"text-align: right;\">\n",
       "      <th></th>\n",
       "      <th>estimated_delivery</th>\n",
       "      <th>order_status</th>\n",
       "      <th>order_amount</th>\n",
       "    </tr>\n",
       "  </thead>\n",
       "  <tbody>\n",
       "    <tr>\n",
       "      <th>0</th>\n",
       "      <td>2016-09</td>\n",
       "      <td>canceled</td>\n",
       "      <td>1</td>\n",
       "    </tr>\n",
       "    <tr>\n",
       "      <th>1</th>\n",
       "      <td>2016-10</td>\n",
       "      <td>canceled</td>\n",
       "      <td>3</td>\n",
       "    </tr>\n",
       "    <tr>\n",
       "      <th>2</th>\n",
       "      <td>2016-11</td>\n",
       "      <td>canceled</td>\n",
       "      <td>10</td>\n",
       "    </tr>\n",
       "    <tr>\n",
       "      <th>3</th>\n",
       "      <td>2016-11</td>\n",
       "      <td>unavailable</td>\n",
       "      <td>5</td>\n",
       "    </tr>\n",
       "    <tr>\n",
       "      <th>4</th>\n",
       "      <td>2016-12</td>\n",
       "      <td>canceled</td>\n",
       "      <td>7</td>\n",
       "    </tr>\n",
       "    <tr>\n",
       "      <th>5</th>\n",
       "      <td>2016-12</td>\n",
       "      <td>unavailable</td>\n",
       "      <td>2</td>\n",
       "    </tr>\n",
       "    <tr>\n",
       "      <th>6</th>\n",
       "      <td>2017-02</td>\n",
       "      <td>canceled</td>\n",
       "      <td>2</td>\n",
       "    </tr>\n",
       "    <tr>\n",
       "      <th>7</th>\n",
       "      <td>2017-02</td>\n",
       "      <td>unavailable</td>\n",
       "      <td>2</td>\n",
       "    </tr>\n",
       "    <tr>\n",
       "      <th>8</th>\n",
       "      <td>2017-03</td>\n",
       "      <td>canceled</td>\n",
       "      <td>26</td>\n",
       "    </tr>\n",
       "    <tr>\n",
       "      <th>9</th>\n",
       "      <td>2017-03</td>\n",
       "      <td>unavailable</td>\n",
       "      <td>66</td>\n",
       "    </tr>\n",
       "  </tbody>\n",
       "</table>\n",
       "</div>"
      ],
      "text/plain": [
       "  estimated_delivery order_status  order_amount\n",
       "0            2016-09     canceled             1\n",
       "1            2016-10     canceled             3\n",
       "2            2016-11     canceled            10\n",
       "3            2016-11  unavailable             5\n",
       "4            2016-12     canceled             7\n",
       "5            2016-12  unavailable             2\n",
       "6            2017-02     canceled             2\n",
       "7            2017-02  unavailable             2\n",
       "8            2017-03     canceled            26\n",
       "9            2017-03  unavailable            66"
      ]
     },
     "execution_count": 38,
     "metadata": {},
     "output_type": "execute_result"
    }
   ],
   "source": [
    "#группирую подготовленные данные и вывожу для ознакомления.\n",
    "#нетрудно заметить, что у нас есть месяцы в которых не было недоставленных заказов (например в январе 2017г.),\n",
    "#а значит для корректного расчета среднего по месяцам нужно учесть, что в данные месяцы было 0 соответствующих наблюдений\n",
    "undelivered_per_month = undelivered.query(\"order_status in ('canceled', 'unavailable')\") \\\n",
    "            .groupby(['estimated_delivery', 'order_status']) \\\n",
    "            .agg({'order_id': 'count'}).reset_index() \\\n",
    "            .rename(columns={'order_id': 'order_amount'})\n",
    "undelivered_per_month.head(10)"
   ]
  },
  {
   "cell_type": "code",
   "execution_count": 39,
   "id": "accae414",
   "metadata": {
    "scrolled": false
   },
   "outputs": [
    {
     "data": {
      "image/png": "[encoded data removed]",
      "text/plain": [
       "<Figure size 1000x300 with 1 Axes>"
      ]
     },
     "metadata": {},
     "output_type": "display_data"
    }
   ],
   "source": [
    "#для наглядности рисую график с разбивкой по причинам\n",
    "plt.figure(figsize=(10,3))\n",
    "plt.xticks(rotation=90)\n",
    "sns.lineplot(x='estimated_delivery', y='order_amount', hue='order_status', data=undelivered_per_month)\n",
    "sns.despine()"
   ]
  },
  {
   "cell_type": "code",
   "execution_count": 40,
   "id": "38b6be02",
   "metadata": {},
   "outputs": [],
   "source": [
    "#сделаю еще одну группировку на этот раз одновременно для всех причин, посмотрим на общее число\n",
    "undelivered_per_month2 = undelivered.query(\"order_status in ('canceled', 'unavailable')\") \\\n",
    "            .groupby(['estimated_delivery']) \\\n",
    "            .agg({'order_id': 'count'}).reset_index() \\\n",
    "            .rename(columns={'order_id': 'order_amount'})"
   ]
  },
  {
   "cell_type": "code",
   "execution_count": 41,
   "id": "e98d449b",
   "metadata": {},
   "outputs": [
    {
     "data": {
      "image/png": "[encoded data removed]",
      "text/plain": [
       "<Figure size 1000x300 with 1 Axes>"
      ]
     },
     "metadata": {},
     "output_type": "display_data"
    }
   ],
   "source": [
    "#для наглядности рисую график без разбивки по причинам\n",
    "plt.figure(figsize=(10,3))\n",
    "plt.xticks(rotation=90)\n",
    "sns.lineplot(x='estimated_delivery', y='order_amount', data=undelivered_per_month2)\n",
    "sns.despine()"
   ]
  },
  {
   "cell_type": "code",
   "execution_count": 42,
   "id": "4ce1e0a3",
   "metadata": {
    "scrolled": true
   },
   "outputs": [
    {
     "data": {
      "text/plain": [
       "10071   2016-09-30\n",
       "30710   2016-10-04\n",
       "4541    2016-10-20\n",
       "53688   2016-10-24\n",
       "83078   2016-10-25\n",
       "           ...    \n",
       "65880   2018-10-23\n",
       "37003   2018-10-25\n",
       "82521   2018-10-25\n",
       "60938   2018-10-30\n",
       "68373   2018-11-12\n",
       "Name: order_estimated_delivery_date, Length: 99441, dtype: datetime64[ns]"
      ]
     },
     "execution_count": 42,
     "metadata": {},
     "output_type": "execute_result"
    }
   ],
   "source": [
    "#определю весь период наблюдений (первый и последний месяцы)\n",
    "orders.order_estimated_delivery_date.sort_values()"
   ]
  },
  {
   "cell_type": "code",
   "execution_count": 43,
   "id": "e2ac48fd",
   "metadata": {
    "scrolled": true
   },
   "outputs": [
    {
     "data": {
      "text/plain": [
       "27"
      ]
     },
     "execution_count": 43,
     "metadata": {},
     "output_type": "execute_result"
    }
   ],
   "source": [
    "#определю и запишу в переменную количество месяцев за которые велись наблюдения для расчета среднего - таких 27\n",
    "date1 = \"2016-09\" #месяц первого наблюдения\n",
    "date2 = \"2018-11\" #месяц последнего наблюдения\n",
    "month_list = [i.strftime(\"%b-%y\") for i in pd.date_range(start=date1, end=date2, freq='MS')]\n",
    "period = len(month_list)\n",
    "period"
   ]
  },
  {
   "cell_type": "code",
   "execution_count": 44,
   "id": "58786032",
   "metadata": {},
   "outputs": [
    {
     "data": {
      "text/plain": [
       "22.93"
      ]
     },
     "execution_count": 44,
     "metadata": {},
     "output_type": "execute_result"
    }
   ],
   "source": [
    "#расчитываю среднее количество в месяц недоставленных товаров по причине отмены заказа (canceled)\n",
    "(canceled_count / period).round(2)"
   ]
  },
  {
   "cell_type": "code",
   "execution_count": 45,
   "id": "287aca4e",
   "metadata": {},
   "outputs": [
    {
     "data": {
      "text/plain": [
       "22.56"
      ]
     },
     "execution_count": 45,
     "metadata": {},
     "output_type": "execute_result"
    }
   ],
   "source": [
    "#расчитываю среднее количество в месяц недоставленных товаров по причине отсутствия товара (unavailable)\n",
    "(unavailable_count / period).round(2)"
   ]
  },
  {
   "cell_type": "code",
   "execution_count": 46,
   "id": "74243393",
   "metadata": {
    "scrolled": true
   },
   "outputs": [
    {
     "data": {
      "text/plain": [
       "45.48"
      ]
     },
     "execution_count": 46,
     "metadata": {},
     "output_type": "execute_result"
    }
   ],
   "source": [
    "#расчитываю среднее количество в месяц недоставленных товаров одновременно по обеим причинам (unavailable & canceled)\n",
    "((unavailable_count + canceled_count) / period).round(2)"
   ]
  },
  {
   "cell_type": "markdown",
   "id": "b2c1b7fa",
   "metadata": {},
   "source": [
    "##############################################################################"
   ]
  },
  {
   "cell_type": "markdown",
   "id": "b0903dbf",
   "metadata": {},
   "source": [
    "ЧАСТЬ 5 (Решаю вопрос №3) \n",
    "\n",
    "По каждому товару определить, в какой день недели товар чаще всего покупается. "
   ]
  },
  {
   "cell_type": "markdown",
   "id": "8a5c3c09",
   "metadata": {},
   "source": [
    "При решении данного вопроса принимаю следующее допущение.\n",
    "\n",
    "Под покупкой понимается тоже самое, что и в первом вопросе, поэтому при решении вопроса беру уже ранее созданный мной датасет (true_orders). А день недели покупки определю по дате оплаты заказа (order_approved_at)."
   ]
  },
  {
   "cell_type": "code",
   "execution_count": 47,
   "id": "09a381fe",
   "metadata": {
    "scrolled": true
   },
   "outputs": [],
   "source": [
    "#создам в ранее объединенных датасетах 'orders' и 'items' новую колонку в которой будет день недели\n",
    "true_orders['days'] = true_orders['order_approved_at'].dt.day_name()"
   ]
  },
  {
   "cell_type": "code",
   "execution_count": 48,
   "id": "81097082",
   "metadata": {
    "scrolled": true
   },
   "outputs": [],
   "source": [
    "#объединю датасеты для последующего анализа - нужен столбец 'product_id' из датасета 'items'\n",
    "true_orders_merge = true_orders.merge(items, how='left', on='order_id')"
   ]
  },
  {
   "cell_type": "code",
   "execution_count": 49,
   "id": "d04c7158",
   "metadata": {
    "scrolled": false
   },
   "outputs": [
    {
     "data": {
      "text/plain": [
       "32726"
      ]
     },
     "execution_count": 49,
     "metadata": {},
     "output_type": "execute_result"
    }
   ],
   "source": [
    "#для целей последующего контроля выведу общее количество уникальных товаров, для которых будем считать метрику\n",
    "true_orders_merge.product_id.nunique()"
   ]
  },
  {
   "cell_type": "code",
   "execution_count": 50,
   "id": "17b51d02",
   "metadata": {},
   "outputs": [
    {
     "data": {
      "text/html": [
       "<div>\n",
       "<style scoped>\n",
       "    .dataframe tbody tr th:only-of-type {\n",
       "        vertical-align: middle;\n",
       "    }\n",
       "\n",
       "    .dataframe tbody tr th {\n",
       "        vertical-align: top;\n",
       "    }\n",
       "\n",
       "    .dataframe thead th {\n",
       "        text-align: right;\n",
       "    }\n",
       "</style>\n",
       "<table border=\"1\" class=\"dataframe\">\n",
       "  <thead>\n",
       "    <tr style=\"text-align: right;\">\n",
       "      <th></th>\n",
       "      <th>product_id</th>\n",
       "      <th>days</th>\n",
       "    </tr>\n",
       "  </thead>\n",
       "  <tbody>\n",
       "    <tr>\n",
       "      <th>0</th>\n",
       "      <td>00066f42aeeb9f3007548bb9d3f33c38</td>\n",
       "      <td>Sunday</td>\n",
       "    </tr>\n",
       "    <tr>\n",
       "      <th>1</th>\n",
       "      <td>00088930e925c41fd95ebfe695fd2655</td>\n",
       "      <td>Tuesday</td>\n",
       "    </tr>\n",
       "    <tr>\n",
       "      <th>2</th>\n",
       "      <td>0009406fd7479715e4bef61dd91f2462</td>\n",
       "      <td>Friday</td>\n",
       "    </tr>\n",
       "    <tr>\n",
       "      <th>3</th>\n",
       "      <td>000b8f95fcb9e0096488278317764d19</td>\n",
       "      <td>[Friday, Wednesday]</td>\n",
       "    </tr>\n",
       "    <tr>\n",
       "      <th>4</th>\n",
       "      <td>000d9be29b5207b54e86aa1b1ac54872</td>\n",
       "      <td>Tuesday</td>\n",
       "    </tr>\n",
       "    <tr>\n",
       "      <th>...</th>\n",
       "      <td>...</td>\n",
       "      <td>...</td>\n",
       "    </tr>\n",
       "    <tr>\n",
       "      <th>32721</th>\n",
       "      <td>fff6177642830a9a94a0f2cba5e476d1</td>\n",
       "      <td>[Monday, Saturday]</td>\n",
       "    </tr>\n",
       "    <tr>\n",
       "      <th>32722</th>\n",
       "      <td>fff81cc3158d2725c0655ab9ba0f712c</td>\n",
       "      <td>Monday</td>\n",
       "    </tr>\n",
       "    <tr>\n",
       "      <th>32723</th>\n",
       "      <td>fff9553ac224cec9d15d49f5a263411f</td>\n",
       "      <td>Saturday</td>\n",
       "    </tr>\n",
       "    <tr>\n",
       "      <th>32724</th>\n",
       "      <td>fffdb2d0ec8d6a61f0a0a0db3f25b441</td>\n",
       "      <td>Tuesday</td>\n",
       "    </tr>\n",
       "    <tr>\n",
       "      <th>32725</th>\n",
       "      <td>fffe9eeff12fcbd74a2f2b007dde0c58</td>\n",
       "      <td>Wednesday</td>\n",
       "    </tr>\n",
       "  </tbody>\n",
       "</table>\n",
       "<p>32726 rows × 2 columns</p>\n",
       "</div>"
      ],
      "text/plain": [
       "                             product_id                 days\n",
       "0      00066f42aeeb9f3007548bb9d3f33c38               Sunday\n",
       "1      00088930e925c41fd95ebfe695fd2655              Tuesday\n",
       "2      0009406fd7479715e4bef61dd91f2462               Friday\n",
       "3      000b8f95fcb9e0096488278317764d19  [Friday, Wednesday]\n",
       "4      000d9be29b5207b54e86aa1b1ac54872              Tuesday\n",
       "...                                 ...                  ...\n",
       "32721  fff6177642830a9a94a0f2cba5e476d1   [Monday, Saturday]\n",
       "32722  fff81cc3158d2725c0655ab9ba0f712c               Monday\n",
       "32723  fff9553ac224cec9d15d49f5a263411f             Saturday\n",
       "32724  fffdb2d0ec8d6a61f0a0a0db3f25b441              Tuesday\n",
       "32725  fffe9eeff12fcbd74a2f2b007dde0c58            Wednesday\n",
       "\n",
       "[32726 rows x 2 columns]"
      ]
     },
     "execution_count": 50,
     "metadata": {},
     "output_type": "execute_result"
    }
   ],
   "source": [
    "#день недели, когда товар чаще всего покупается это день, который встречается чаще всего - мода,\n",
    "#также примечательно, что число уникальных товаров осталось неизменным - 32726,\n",
    "#получившийся ответ записываю в переменную 'items_top_days'\n",
    "items_top_days = true_orders_merge.groupby('product_id', as_index=False) \\\n",
    "                                        .agg({'days': pd.Series.mode})\n",
    "items_top_days"
   ]
  },
  {
   "cell_type": "markdown",
   "id": "0ff0ec49",
   "metadata": {},
   "source": [
    "##############################################################################"
   ]
  },
  {
   "cell_type": "markdown",
   "id": "79772eea",
   "metadata": {},
   "source": [
    "ЧАСТЬ 6 (Решаю вопрос №4) \n",
    "\n",
    "Сколько у каждого из пользователей в среднем покупок в неделю (по месяцам)?"
   ]
  },
  {
   "cell_type": "markdown",
   "id": "37d520d4",
   "metadata": {},
   "source": [
    "При решении данного вопроса, придерживаюсь ранее принятой парадигмы, что считать покупкой (датасет 'true_orders'). Дату покупки также отслеживаю по столбцу 'order_approved_at'. "
   ]
  },
  {
   "cell_type": "code",
   "execution_count": 51,
   "id": "4b9060ab",
   "metadata": {
    "scrolled": true
   },
   "outputs": [
    {
     "data": {
      "text/html": [
       "<div>\n",
       "<style scoped>\n",
       "    .dataframe tbody tr th:only-of-type {\n",
       "        vertical-align: middle;\n",
       "    }\n",
       "\n",
       "    .dataframe tbody tr th {\n",
       "        vertical-align: top;\n",
       "    }\n",
       "\n",
       "    .dataframe thead th {\n",
       "        text-align: right;\n",
       "    }\n",
       "</style>\n",
       "<table border=\"1\" class=\"dataframe\">\n",
       "  <thead>\n",
       "    <tr style=\"text-align: right;\">\n",
       "      <th></th>\n",
       "      <th>customer_unique_id</th>\n",
       "      <th>order_id</th>\n",
       "      <th>order_approved_at</th>\n",
       "    </tr>\n",
       "  </thead>\n",
       "  <tbody>\n",
       "    <tr>\n",
       "      <th>0</th>\n",
       "      <td>7c396fd4830fd04220f754e42b4e5bff</td>\n",
       "      <td>e481f51cbdc54678b7cc49136f2d6af7</td>\n",
       "      <td>2017-10-02 11:07:15</td>\n",
       "    </tr>\n",
       "    <tr>\n",
       "      <th>1</th>\n",
       "      <td>af07308b275d755c9edb36a90c618231</td>\n",
       "      <td>53cdb2fc8bc7dce0b6741e2150273451</td>\n",
       "      <td>2018-07-26 03:24:27</td>\n",
       "    </tr>\n",
       "    <tr>\n",
       "      <th>2</th>\n",
       "      <td>3a653a41f6f9fc3d2a113cf8398680e8</td>\n",
       "      <td>47770eb9100c2d0c44946d9cf07ec65d</td>\n",
       "      <td>2018-08-08 08:55:23</td>\n",
       "    </tr>\n",
       "    <tr>\n",
       "      <th>3</th>\n",
       "      <td>7c142cf63193a1473d2e66489a9ae977</td>\n",
       "      <td>949d5b44dbf5de918fe9c16f97b45f8a</td>\n",
       "      <td>2017-11-18 19:45:59</td>\n",
       "    </tr>\n",
       "    <tr>\n",
       "      <th>4</th>\n",
       "      <td>72632f0f9dd73dfee390c9b22eb56dd6</td>\n",
       "      <td>ad21c59c0840e6cb83a9ceb5573f8159</td>\n",
       "      <td>2018-02-13 22:20:29</td>\n",
       "    </tr>\n",
       "  </tbody>\n",
       "</table>\n",
       "</div>"
      ],
      "text/plain": [
       "                 customer_unique_id                          order_id  \\\n",
       "0  7c396fd4830fd04220f754e42b4e5bff  e481f51cbdc54678b7cc49136f2d6af7   \n",
       "1  af07308b275d755c9edb36a90c618231  53cdb2fc8bc7dce0b6741e2150273451   \n",
       "2  3a653a41f6f9fc3d2a113cf8398680e8  47770eb9100c2d0c44946d9cf07ec65d   \n",
       "3  7c142cf63193a1473d2e66489a9ae977  949d5b44dbf5de918fe9c16f97b45f8a   \n",
       "4  72632f0f9dd73dfee390c9b22eb56dd6  ad21c59c0840e6cb83a9ceb5573f8159   \n",
       "\n",
       "    order_approved_at  \n",
       "0 2017-10-02 11:07:15  \n",
       "1 2018-07-26 03:24:27  \n",
       "2 2018-08-08 08:55:23  \n",
       "3 2017-11-18 19:45:59  \n",
       "4 2018-02-13 22:20:29  "
      ]
     },
     "execution_count": 51,
     "metadata": {},
     "output_type": "execute_result"
    }
   ],
   "source": [
    "#готовлю промежуточный датасет, на этот раз объединяю 'customers' c 'orders' (отфильтрованным ранее),\n",
    "#после чего оставляю только нужные для работы стообцы, сразу проверяю результат\n",
    "weekly_orders = true_orders.merge(customers, how='left', on='customer_id') \\\n",
    "                [['customer_unique_id', 'order_id', 'order_approved_at']]\n",
    "weekly_orders.head()"
   ]
  },
  {
   "cell_type": "code",
   "execution_count": 52,
   "id": "0fb54085",
   "metadata": {},
   "outputs": [
    {
     "data": {
      "text/html": [
       "<div>\n",
       "<style scoped>\n",
       "    .dataframe tbody tr th:only-of-type {\n",
       "        vertical-align: middle;\n",
       "    }\n",
       "\n",
       "    .dataframe tbody tr th {\n",
       "        vertical-align: top;\n",
       "    }\n",
       "\n",
       "    .dataframe thead th {\n",
       "        text-align: right;\n",
       "    }\n",
       "</style>\n",
       "<table border=\"1\" class=\"dataframe\">\n",
       "  <thead>\n",
       "    <tr style=\"text-align: right;\">\n",
       "      <th></th>\n",
       "      <th>order_approved_at</th>\n",
       "      <th>customer_unique_id</th>\n",
       "      <th>orders_in_month</th>\n",
       "    </tr>\n",
       "  </thead>\n",
       "  <tbody>\n",
       "    <tr>\n",
       "      <th>0</th>\n",
       "      <td>2016-09-15 12:16:38</td>\n",
       "      <td>830d5b7aaa3b6f1e9ad63703bec97d23</td>\n",
       "      <td>1</td>\n",
       "    </tr>\n",
       "    <tr>\n",
       "      <th>1</th>\n",
       "      <td>2016-10-04 09:43:32</td>\n",
       "      <td>14359ea0c7a105749c0a56478825b015</td>\n",
       "      <td>1</td>\n",
       "    </tr>\n",
       "    <tr>\n",
       "      <th>2</th>\n",
       "      <td>2016-10-04 10:19:23</td>\n",
       "      <td>87776adb449c551e74c13fc34f036105</td>\n",
       "      <td>1</td>\n",
       "    </tr>\n",
       "    <tr>\n",
       "      <th>3</th>\n",
       "      <td>2016-10-04 10:25:46</td>\n",
       "      <td>88bc832f104b6dd684a17dbb1b76e778</td>\n",
       "      <td>1</td>\n",
       "    </tr>\n",
       "    <tr>\n",
       "      <th>4</th>\n",
       "      <td>2016-10-04 10:28:07</td>\n",
       "      <td>8d3a54507421dbd2ce0a1d58046826e0</td>\n",
       "      <td>1</td>\n",
       "    </tr>\n",
       "  </tbody>\n",
       "</table>\n",
       "</div>"
      ],
      "text/plain": [
       "    order_approved_at                customer_unique_id  orders_in_month\n",
       "0 2016-09-15 12:16:38  830d5b7aaa3b6f1e9ad63703bec97d23                1\n",
       "1 2016-10-04 09:43:32  14359ea0c7a105749c0a56478825b015                1\n",
       "2 2016-10-04 10:19:23  87776adb449c551e74c13fc34f036105                1\n",
       "3 2016-10-04 10:25:46  88bc832f104b6dd684a17dbb1b76e778                1\n",
       "4 2016-10-04 10:28:07  8d3a54507421dbd2ce0a1d58046826e0                1"
      ]
     },
     "execution_count": 52,
     "metadata": {},
     "output_type": "execute_result"
    }
   ],
   "source": [
    "#провожу нужную для работы группировку, также с проверкой результата - в итоге получаем заказы уникальных пользователей в месяц\n",
    "weekly_orders = weekly_orders.groupby(['order_approved_at', 'customer_unique_id'], as_index=False) \\\n",
    "                          .agg({'order_id': 'count'}) \\\n",
    "                          .rename(columns={'order_id': 'orders_in_month'})\n",
    "weekly_orders.head()"
   ]
  },
  {
   "cell_type": "code",
   "execution_count": 53,
   "id": "4596abe3",
   "metadata": {
    "scrolled": true
   },
   "outputs": [
    {
     "data": {
      "text/html": [
       "<div>\n",
       "<style scoped>\n",
       "    .dataframe tbody tr th:only-of-type {\n",
       "        vertical-align: middle;\n",
       "    }\n",
       "\n",
       "    .dataframe tbody tr th {\n",
       "        vertical-align: top;\n",
       "    }\n",
       "\n",
       "    .dataframe thead th {\n",
       "        text-align: right;\n",
       "    }\n",
       "</style>\n",
       "<table border=\"1\" class=\"dataframe\">\n",
       "  <thead>\n",
       "    <tr style=\"text-align: right;\">\n",
       "      <th></th>\n",
       "      <th>order_approved_at</th>\n",
       "      <th>customer_unique_id</th>\n",
       "      <th>orders_in_month</th>\n",
       "      <th>weeks_count</th>\n",
       "      <th>month</th>\n",
       "    </tr>\n",
       "  </thead>\n",
       "  <tbody>\n",
       "    <tr>\n",
       "      <th>0</th>\n",
       "      <td>2016-09-15 12:16:38</td>\n",
       "      <td>830d5b7aaa3b6f1e9ad63703bec97d23</td>\n",
       "      <td>1</td>\n",
       "      <td>4.285714</td>\n",
       "      <td>September</td>\n",
       "    </tr>\n",
       "    <tr>\n",
       "      <th>1</th>\n",
       "      <td>2016-10-04 09:43:32</td>\n",
       "      <td>14359ea0c7a105749c0a56478825b015</td>\n",
       "      <td>1</td>\n",
       "      <td>4.428571</td>\n",
       "      <td>October</td>\n",
       "    </tr>\n",
       "    <tr>\n",
       "      <th>2</th>\n",
       "      <td>2016-10-04 10:19:23</td>\n",
       "      <td>87776adb449c551e74c13fc34f036105</td>\n",
       "      <td>1</td>\n",
       "      <td>4.428571</td>\n",
       "      <td>October</td>\n",
       "    </tr>\n",
       "    <tr>\n",
       "      <th>3</th>\n",
       "      <td>2016-10-04 10:25:46</td>\n",
       "      <td>88bc832f104b6dd684a17dbb1b76e778</td>\n",
       "      <td>1</td>\n",
       "      <td>4.428571</td>\n",
       "      <td>October</td>\n",
       "    </tr>\n",
       "    <tr>\n",
       "      <th>4</th>\n",
       "      <td>2016-10-04 10:28:07</td>\n",
       "      <td>8d3a54507421dbd2ce0a1d58046826e0</td>\n",
       "      <td>1</td>\n",
       "      <td>4.428571</td>\n",
       "      <td>October</td>\n",
       "    </tr>\n",
       "  </tbody>\n",
       "</table>\n",
       "</div>"
      ],
      "text/plain": [
       "    order_approved_at                customer_unique_id  orders_in_month  \\\n",
       "0 2016-09-15 12:16:38  830d5b7aaa3b6f1e9ad63703bec97d23                1   \n",
       "1 2016-10-04 09:43:32  14359ea0c7a105749c0a56478825b015                1   \n",
       "2 2016-10-04 10:19:23  87776adb449c551e74c13fc34f036105                1   \n",
       "3 2016-10-04 10:25:46  88bc832f104b6dd684a17dbb1b76e778                1   \n",
       "4 2016-10-04 10:28:07  8d3a54507421dbd2ce0a1d58046826e0                1   \n",
       "\n",
       "   weeks_count      month  \n",
       "0     4.285714  September  \n",
       "1     4.428571    October  \n",
       "2     4.428571    October  \n",
       "3     4.428571    October  \n",
       "4     4.428571    October  "
      ]
     },
     "execution_count": 53,
     "metadata": {},
     "output_type": "execute_result"
    }
   ],
   "source": [
    "#получаю число недель из месяцев и добавляю их к датасету новым столбцом,\n",
    "#а также добавлю название месяца в котором была покупка,\n",
    "#также смотрю  итоговый результат\n",
    "weekly_orders['weeks_count'] = (weekly_orders['order_approved_at'].dt.daysinmonth) / 7\n",
    "weekly_orders['month'] = weekly_orders.order_approved_at.dt.month_name()\n",
    "weekly_orders.head()"
   ]
  },
  {
   "cell_type": "code",
   "execution_count": 54,
   "id": "0fdf55af",
   "metadata": {
    "scrolled": true
   },
   "outputs": [
    {
     "data": {
      "text/html": [
       "<div>\n",
       "<style scoped>\n",
       "    .dataframe tbody tr th:only-of-type {\n",
       "        vertical-align: middle;\n",
       "    }\n",
       "\n",
       "    .dataframe tbody tr th {\n",
       "        vertical-align: top;\n",
       "    }\n",
       "\n",
       "    .dataframe thead th {\n",
       "        text-align: right;\n",
       "    }\n",
       "</style>\n",
       "<table border=\"1\" class=\"dataframe\">\n",
       "  <thead>\n",
       "    <tr style=\"text-align: right;\">\n",
       "      <th></th>\n",
       "      <th>customer_unique_id</th>\n",
       "      <th>orders_in_month</th>\n",
       "      <th>month</th>\n",
       "      <th>avg_orders_per_week</th>\n",
       "    </tr>\n",
       "  </thead>\n",
       "  <tbody>\n",
       "    <tr>\n",
       "      <th>0</th>\n",
       "      <td>830d5b7aaa3b6f1e9ad63703bec97d23</td>\n",
       "      <td>1</td>\n",
       "      <td>September</td>\n",
       "      <td>0.233333</td>\n",
       "    </tr>\n",
       "    <tr>\n",
       "      <th>1</th>\n",
       "      <td>14359ea0c7a105749c0a56478825b015</td>\n",
       "      <td>1</td>\n",
       "      <td>October</td>\n",
       "      <td>0.225806</td>\n",
       "    </tr>\n",
       "    <tr>\n",
       "      <th>2</th>\n",
       "      <td>87776adb449c551e74c13fc34f036105</td>\n",
       "      <td>1</td>\n",
       "      <td>October</td>\n",
       "      <td>0.225806</td>\n",
       "    </tr>\n",
       "    <tr>\n",
       "      <th>3</th>\n",
       "      <td>88bc832f104b6dd684a17dbb1b76e778</td>\n",
       "      <td>1</td>\n",
       "      <td>October</td>\n",
       "      <td>0.225806</td>\n",
       "    </tr>\n",
       "    <tr>\n",
       "      <th>4</th>\n",
       "      <td>8d3a54507421dbd2ce0a1d58046826e0</td>\n",
       "      <td>1</td>\n",
       "      <td>October</td>\n",
       "      <td>0.225806</td>\n",
       "    </tr>\n",
       "    <tr>\n",
       "      <th>...</th>\n",
       "      <td>...</td>\n",
       "      <td>...</td>\n",
       "      <td>...</td>\n",
       "      <td>...</td>\n",
       "    </tr>\n",
       "    <tr>\n",
       "      <th>98099</th>\n",
       "      <td>7febafa06d9d8f232a900a2937f04338</td>\n",
       "      <td>1</td>\n",
       "      <td>August</td>\n",
       "      <td>0.225806</td>\n",
       "    </tr>\n",
       "    <tr>\n",
       "      <th>98100</th>\n",
       "      <td>5c58de6fb80e93396e2f35642666b693</td>\n",
       "      <td>1</td>\n",
       "      <td>August</td>\n",
       "      <td>0.225806</td>\n",
       "    </tr>\n",
       "    <tr>\n",
       "      <th>98101</th>\n",
       "      <td>b701bebbdf478f5500348f03aff62121</td>\n",
       "      <td>1</td>\n",
       "      <td>August</td>\n",
       "      <td>0.225806</td>\n",
       "    </tr>\n",
       "    <tr>\n",
       "      <th>98102</th>\n",
       "      <td>24ac2b4327e25baf39f2119e4228976a</td>\n",
       "      <td>1</td>\n",
       "      <td>August</td>\n",
       "      <td>0.225806</td>\n",
       "    </tr>\n",
       "    <tr>\n",
       "      <th>98103</th>\n",
       "      <td>ff22e30958c13ffe219db7d711e8f564</td>\n",
       "      <td>1</td>\n",
       "      <td>September</td>\n",
       "      <td>0.233333</td>\n",
       "    </tr>\n",
       "  </tbody>\n",
       "</table>\n",
       "<p>98104 rows × 4 columns</p>\n",
       "</div>"
      ],
      "text/plain": [
       "                     customer_unique_id  orders_in_month      month  \\\n",
       "0      830d5b7aaa3b6f1e9ad63703bec97d23                1  September   \n",
       "1      14359ea0c7a105749c0a56478825b015                1    October   \n",
       "2      87776adb449c551e74c13fc34f036105                1    October   \n",
       "3      88bc832f104b6dd684a17dbb1b76e778                1    October   \n",
       "4      8d3a54507421dbd2ce0a1d58046826e0                1    October   \n",
       "...                                 ...              ...        ...   \n",
       "98099  7febafa06d9d8f232a900a2937f04338                1     August   \n",
       "98100  5c58de6fb80e93396e2f35642666b693                1     August   \n",
       "98101  b701bebbdf478f5500348f03aff62121                1     August   \n",
       "98102  24ac2b4327e25baf39f2119e4228976a                1     August   \n",
       "98103  ff22e30958c13ffe219db7d711e8f564                1  September   \n",
       "\n",
       "       avg_orders_per_week  \n",
       "0                 0.233333  \n",
       "1                 0.225806  \n",
       "2                 0.225806  \n",
       "3                 0.225806  \n",
       "4                 0.225806  \n",
       "...                    ...  \n",
       "98099             0.225806  \n",
       "98100             0.225806  \n",
       "98101             0.225806  \n",
       "98102             0.225806  \n",
       "98103             0.233333  \n",
       "\n",
       "[98104 rows x 4 columns]"
      ]
     },
     "execution_count": 54,
     "metadata": {},
     "output_type": "execute_result"
    }
   ],
   "source": [
    "#готовлю последние преобразования в датасете - делю количество заказов уникальных клиентов на количество недель в месяце,\n",
    "#чтобы получить ответ на вопрос, \n",
    "#итоговый результат запишу в переменную 'orders_per_week', в котором будут только нужные столбцы\n",
    "weekly_orders['avg_orders_per_week'] = weekly_orders.orders_in_month / weekly_orders.weeks_count\n",
    "avg_orders_per_week = weekly_orders[['customer_unique_id', 'orders_in_month', 'month', 'avg_orders_per_week']]\n",
    "avg_orders_per_week"
   ]
  },
  {
   "cell_type": "markdown",
   "id": "c27d60f2",
   "metadata": {},
   "source": [
    "##############################################################################"
   ]
  },
  {
   "cell_type": "markdown",
   "id": "674f1957",
   "metadata": {},
   "source": [
    "ЧАСТЬ 7 (Решаю вопрос №5) \n",
    "\n",
    "Используя pandas, проведи когортный анализ пользователей. \n",
    "В период с января по декабрь выяви когорту с самым высоким retention на 3й месяц"
   ]
  },
  {
   "cell_type": "markdown",
   "id": "205cd1fd",
   "metadata": {},
   "source": [
    "При решении вопроса №2 мной было установлено, что у нас наблюдения имеются за период с сентября 2016г. по ноябрь 2018г.\n",
    "\n",
    "Значит когортный анализ, судя по поставленному вопросу, можно провести только за 2017г."
   ]
  },
  {
   "cell_type": "markdown",
   "id": "359bc064",
   "metadata": {},
   "source": [
    "Критерии когортного анализа:\n",
    "\n",
    "1. Когорта пользователей -  делю покупателей по месяцу покупки. Под покупкой привычно использую данные по столбцу 'order_approved_at';\n",
    "\n",
    "2. Интервал времени по метрике - месяц;\n",
    "\n",
    "3. Метрика -  retention: количество пользователей, которые вернулись к нашим товарам через месяц после первой покупки.\n",
    "\n",
    "Строю когортный анализ по инструкции, расположенной по ссылке: https://medium.com/@adrianovalexey/раз-и-навсегда-как-автоматизировать-построение-когорт-с-python-и-pandas-74f2c38dd3f7"
   ]
  },
  {
   "cell_type": "code",
   "execution_count": 55,
   "id": "69f43a7a",
   "metadata": {},
   "outputs": [],
   "source": [
    "#еще раз объеденю датасеты знакомым образом (как в прошлом вопросе)\n",
    "cohorts_orders = true_orders.merge(customers, how='left', on='customer_id')"
   ]
  },
  {
   "cell_type": "code",
   "execution_count": 56,
   "id": "7df4259b",
   "metadata": {
    "scrolled": true
   },
   "outputs": [],
   "source": [
    "#оставлю только нужные для анализа колонки\n",
    "cohorts_orders = cohorts_orders.loc[:, ['customer_unique_id', 'order_approved_at']]"
   ]
  },
  {
   "cell_type": "code",
   "execution_count": 57,
   "id": "a29f42cf",
   "metadata": {},
   "outputs": [],
   "source": [
    "#добавлю столбец с периодом заказа в формате год/месяц\n",
    "cohorts_orders['orders_period'] = cohorts_orders.order_approved_at.apply(lambda x: x.strftime('%Y-%m'))"
   ]
  },
  {
   "cell_type": "code",
   "execution_count": 58,
   "id": "edd5b48d",
   "metadata": {},
   "outputs": [
    {
     "data": {
      "text/html": [
       "<div>\n",
       "<style scoped>\n",
       "    .dataframe tbody tr th:only-of-type {\n",
       "        vertical-align: middle;\n",
       "    }\n",
       "\n",
       "    .dataframe tbody tr th {\n",
       "        vertical-align: top;\n",
       "    }\n",
       "\n",
       "    .dataframe thead th {\n",
       "        text-align: right;\n",
       "    }\n",
       "</style>\n",
       "<table border=\"1\" class=\"dataframe\">\n",
       "  <thead>\n",
       "    <tr style=\"text-align: right;\">\n",
       "      <th></th>\n",
       "      <th>customer_unique_id</th>\n",
       "      <th>order_approved_at</th>\n",
       "      <th>orders_period</th>\n",
       "    </tr>\n",
       "  </thead>\n",
       "  <tbody>\n",
       "    <tr>\n",
       "      <th>0</th>\n",
       "      <td>7c396fd4830fd04220f754e42b4e5bff</td>\n",
       "      <td>2017-10-02 11:07:15</td>\n",
       "      <td>2017-10</td>\n",
       "    </tr>\n",
       "    <tr>\n",
       "      <th>3</th>\n",
       "      <td>7c142cf63193a1473d2e66489a9ae977</td>\n",
       "      <td>2017-11-18 19:45:59</td>\n",
       "      <td>2017-11</td>\n",
       "    </tr>\n",
       "    <tr>\n",
       "      <th>5</th>\n",
       "      <td>80bb27c7c16e8f973207a5086ab329e2</td>\n",
       "      <td>2017-07-09 22:10:13</td>\n",
       "      <td>2017-07</td>\n",
       "    </tr>\n",
       "    <tr>\n",
       "      <th>6</th>\n",
       "      <td>36edbb3fb164b1f16485364b6fb04c73</td>\n",
       "      <td>2017-04-13 13:25:17</td>\n",
       "      <td>2017-04</td>\n",
       "    </tr>\n",
       "    <tr>\n",
       "      <th>7</th>\n",
       "      <td>932afa1e708222e5821dac9cd5db4cae</td>\n",
       "      <td>2017-05-16 13:22:11</td>\n",
       "      <td>2017-05</td>\n",
       "    </tr>\n",
       "  </tbody>\n",
       "</table>\n",
       "</div>"
      ],
      "text/plain": [
       "                 customer_unique_id   order_approved_at orders_period\n",
       "0  7c396fd4830fd04220f754e42b4e5bff 2017-10-02 11:07:15       2017-10\n",
       "3  7c142cf63193a1473d2e66489a9ae977 2017-11-18 19:45:59       2017-11\n",
       "5  80bb27c7c16e8f973207a5086ab329e2 2017-07-09 22:10:13       2017-07\n",
       "6  36edbb3fb164b1f16485364b6fb04c73 2017-04-13 13:25:17       2017-04\n",
       "7  932afa1e708222e5821dac9cd5db4cae 2017-05-16 13:22:11       2017-05"
      ]
     },
     "execution_count": 58,
     "metadata": {},
     "output_type": "execute_result"
    }
   ],
   "source": [
    "#отфильтрую датасет по периоду в задании - 2017г., проверю результат\n",
    "cohorts_orders = cohorts_orders.query('order_approved_at >= \"2017-01-01\" & order_approved_at <= \"2017-12-31\"')\n",
    "cohorts_orders.head(5)"
   ]
  },
  {
   "cell_type": "code",
   "execution_count": 59,
   "id": "67b85a3b",
   "metadata": {},
   "outputs": [
    {
     "data": {
      "text/html": [
       "<div>\n",
       "<style scoped>\n",
       "    .dataframe tbody tr th:only-of-type {\n",
       "        vertical-align: middle;\n",
       "    }\n",
       "\n",
       "    .dataframe tbody tr th {\n",
       "        vertical-align: top;\n",
       "    }\n",
       "\n",
       "    .dataframe thead th {\n",
       "        text-align: right;\n",
       "    }\n",
       "</style>\n",
       "<table border=\"1\" class=\"dataframe\">\n",
       "  <thead>\n",
       "    <tr style=\"text-align: right;\">\n",
       "      <th></th>\n",
       "      <th>customer_unique_id</th>\n",
       "      <th>order_approved_at</th>\n",
       "      <th>orders_period</th>\n",
       "      <th>first_month</th>\n",
       "      <th>orders_amount</th>\n",
       "    </tr>\n",
       "  </thead>\n",
       "  <tbody>\n",
       "    <tr>\n",
       "      <th>0</th>\n",
       "      <td>7c396fd4830fd04220f754e42b4e5bff</td>\n",
       "      <td>2017-10-02 11:07:15</td>\n",
       "      <td>2017-10</td>\n",
       "      <td>2017-09</td>\n",
       "      <td>0</td>\n",
       "    </tr>\n",
       "    <tr>\n",
       "      <th>1</th>\n",
       "      <td>7c142cf63193a1473d2e66489a9ae977</td>\n",
       "      <td>2017-11-18 19:45:59</td>\n",
       "      <td>2017-11</td>\n",
       "      <td>2017-11</td>\n",
       "      <td>0</td>\n",
       "    </tr>\n",
       "    <tr>\n",
       "      <th>2</th>\n",
       "      <td>80bb27c7c16e8f973207a5086ab329e2</td>\n",
       "      <td>2017-07-09 22:10:13</td>\n",
       "      <td>2017-07</td>\n",
       "      <td>2017-07</td>\n",
       "      <td>0</td>\n",
       "    </tr>\n",
       "    <tr>\n",
       "      <th>3</th>\n",
       "      <td>36edbb3fb164b1f16485364b6fb04c73</td>\n",
       "      <td>2017-04-13 13:25:17</td>\n",
       "      <td>2017-04</td>\n",
       "      <td>2017-04</td>\n",
       "      <td>0</td>\n",
       "    </tr>\n",
       "    <tr>\n",
       "      <th>4</th>\n",
       "      <td>932afa1e708222e5821dac9cd5db4cae</td>\n",
       "      <td>2017-05-16 13:22:11</td>\n",
       "      <td>2017-05</td>\n",
       "      <td>2017-05</td>\n",
       "      <td>0</td>\n",
       "    </tr>\n",
       "  </tbody>\n",
       "</table>\n",
       "</div>"
      ],
      "text/plain": [
       "                 customer_unique_id   order_approved_at orders_period  \\\n",
       "0  7c396fd4830fd04220f754e42b4e5bff 2017-10-02 11:07:15       2017-10   \n",
       "1  7c142cf63193a1473d2e66489a9ae977 2017-11-18 19:45:59       2017-11   \n",
       "2  80bb27c7c16e8f973207a5086ab329e2 2017-07-09 22:10:13       2017-07   \n",
       "3  36edbb3fb164b1f16485364b6fb04c73 2017-04-13 13:25:17       2017-04   \n",
       "4  932afa1e708222e5821dac9cd5db4cae 2017-05-16 13:22:11       2017-05   \n",
       "\n",
       "  first_month  orders_amount  \n",
       "0     2017-09              0  \n",
       "1     2017-11              0  \n",
       "2     2017-07              0  \n",
       "3     2017-04              0  \n",
       "4     2017-05              0  "
      ]
     },
     "execution_count": 59,
     "metadata": {},
     "output_type": "execute_result"
    }
   ],
   "source": [
    "#группирую по первой покупке клиента, добавлю столбец первой покупки,\n",
    "#создаю столбец в котором далее будет количество заказов\n",
    "#проверяю получившийся результат\n",
    "cohorts_orders.set_index('customer_unique_id', inplace=True)\n",
    "cohorts_orders['first_month'] = cohorts_orders.groupby(level=0)['order_approved_at'].min().apply(lambda x: x.strftime('%Y-%m'))\n",
    "cohorts_orders.reset_index(inplace=True)\n",
    "cohorts_orders.insert(len(cohorts_orders.columns), 'orders_amount', 0, allow_duplicates=False) #\n",
    "cohorts_orders.head(5)"
   ]
  },
  {
   "cell_type": "code",
   "execution_count": 60,
   "id": "2bf909e4",
   "metadata": {},
   "outputs": [
    {
     "data": {
      "text/html": [
       "<div>\n",
       "<style scoped>\n",
       "    .dataframe tbody tr th:only-of-type {\n",
       "        vertical-align: middle;\n",
       "    }\n",
       "\n",
       "    .dataframe tbody tr th {\n",
       "        vertical-align: top;\n",
       "    }\n",
       "\n",
       "    .dataframe thead th {\n",
       "        text-align: right;\n",
       "    }\n",
       "</style>\n",
       "<table border=\"1\" class=\"dataframe\">\n",
       "  <thead>\n",
       "    <tr style=\"text-align: right;\">\n",
       "      <th></th>\n",
       "      <th></th>\n",
       "      <th>all_customers</th>\n",
       "      <th>orders_amount</th>\n",
       "    </tr>\n",
       "    <tr>\n",
       "      <th>first_month</th>\n",
       "      <th>orders_period</th>\n",
       "      <th></th>\n",
       "      <th></th>\n",
       "    </tr>\n",
       "  </thead>\n",
       "  <tbody>\n",
       "    <tr>\n",
       "      <th rowspan=\"5\" valign=\"top\">2017-01</th>\n",
       "      <th>2017-01</th>\n",
       "      <td>717</td>\n",
       "      <td>750</td>\n",
       "    </tr>\n",
       "    <tr>\n",
       "      <th>2017-02</th>\n",
       "      <td>4</td>\n",
       "      <td>4</td>\n",
       "    </tr>\n",
       "    <tr>\n",
       "      <th>2017-03</th>\n",
       "      <td>2</td>\n",
       "      <td>2</td>\n",
       "    </tr>\n",
       "    <tr>\n",
       "      <th>2017-04</th>\n",
       "      <td>1</td>\n",
       "      <td>1</td>\n",
       "    </tr>\n",
       "    <tr>\n",
       "      <th>2017-05</th>\n",
       "      <td>3</td>\n",
       "      <td>3</td>\n",
       "    </tr>\n",
       "  </tbody>\n",
       "</table>\n",
       "</div>"
      ],
      "text/plain": [
       "                           all_customers  orders_amount\n",
       "first_month orders_period                              \n",
       "2017-01     2017-01                  717            750\n",
       "            2017-02                    4              4\n",
       "            2017-03                    2              2\n",
       "            2017-04                    1              1\n",
       "            2017-05                    3              3"
      ]
     },
     "execution_count": 60,
     "metadata": {},
     "output_type": "execute_result"
    }
   ],
   "source": [
    "#объединю группы,\n",
    "#определю количество покупок по количеству элементов в одном периоде и количество уникальных клиентов\n",
    "#переименую столбцы для лучшего восприятия\n",
    "grouped_cohorts_orders = cohorts_orders.groupby(['first_month', 'orders_period'])\n",
    "cohorts = grouped_cohorts_orders.agg({'customer_unique_id': pd.Series.nunique, 'orders_amount': pd.Series.count})\n",
    "cohorts.rename(columns={'customer_unique_id': 'all_customers'}, inplace=True)\n",
    "cohorts.head(5)"
   ]
  },
  {
   "cell_type": "code",
   "execution_count": 61,
   "id": "d0b74f8f",
   "metadata": {},
   "outputs": [
    {
     "data": {
      "text/html": [
       "<div>\n",
       "<style scoped>\n",
       "    .dataframe tbody tr th:only-of-type {\n",
       "        vertical-align: middle;\n",
       "    }\n",
       "\n",
       "    .dataframe tbody tr th {\n",
       "        vertical-align: top;\n",
       "    }\n",
       "\n",
       "    .dataframe thead th {\n",
       "        text-align: right;\n",
       "    }\n",
       "</style>\n",
       "<table border=\"1\" class=\"dataframe\">\n",
       "  <thead>\n",
       "    <tr style=\"text-align: right;\">\n",
       "      <th></th>\n",
       "      <th></th>\n",
       "      <th>all_customers</th>\n",
       "      <th>orders_amount</th>\n",
       "      <th>сohort_period</th>\n",
       "    </tr>\n",
       "    <tr>\n",
       "      <th>first_month</th>\n",
       "      <th>orders_period</th>\n",
       "      <th></th>\n",
       "      <th></th>\n",
       "      <th></th>\n",
       "    </tr>\n",
       "  </thead>\n",
       "  <tbody>\n",
       "    <tr>\n",
       "      <th rowspan=\"5\" valign=\"top\">2017-01</th>\n",
       "      <th>2017-01</th>\n",
       "      <td>717</td>\n",
       "      <td>750</td>\n",
       "      <td>1</td>\n",
       "    </tr>\n",
       "    <tr>\n",
       "      <th>2017-02</th>\n",
       "      <td>4</td>\n",
       "      <td>4</td>\n",
       "      <td>2</td>\n",
       "    </tr>\n",
       "    <tr>\n",
       "      <th>2017-03</th>\n",
       "      <td>2</td>\n",
       "      <td>2</td>\n",
       "      <td>3</td>\n",
       "    </tr>\n",
       "    <tr>\n",
       "      <th>2017-04</th>\n",
       "      <td>1</td>\n",
       "      <td>1</td>\n",
       "      <td>4</td>\n",
       "    </tr>\n",
       "    <tr>\n",
       "      <th>2017-05</th>\n",
       "      <td>3</td>\n",
       "      <td>3</td>\n",
       "      <td>5</td>\n",
       "    </tr>\n",
       "  </tbody>\n",
       "</table>\n",
       "</div>"
      ],
      "text/plain": [
       "                           all_customers  orders_amount  сohort_period\n",
       "first_month orders_period                                             \n",
       "2017-01     2017-01                  717            750              1\n",
       "            2017-02                    4              4              2\n",
       "            2017-03                    2              2              3\n",
       "            2017-04                    1              1              4\n",
       "            2017-05                    3              3              5"
      ]
     },
     "execution_count": 61,
     "metadata": {},
     "output_type": "execute_result"
    }
   ],
   "source": [
    "#добавлю порядковое значение \"cohort_period\" для каждого из \"orders_amount\"\n",
    "#\"cohort_period\" определю, как порядковый номер месяца в массиве начинающийся с 1\n",
    "def cohort_period(df):\n",
    "    df['сohort_period'] = np.arange(len(df)) + 1\n",
    "    return df\n",
    "cohorts = cohorts.groupby(level=0).apply(cohort_period)\n",
    "cohorts.head(5)"
   ]
  },
  {
   "cell_type": "code",
   "execution_count": 62,
   "id": "532ef733",
   "metadata": {},
   "outputs": [
    {
     "data": {
      "text/plain": [
       "сohort_period\n",
       "1    717\n",
       "2      4\n",
       "3      2\n",
       "4      1\n",
       "5      3\n",
       "Name: all_customers, dtype: int64"
      ]
     },
     "execution_count": 62,
     "metadata": {},
     "output_type": "execute_result"
    }
   ],
   "source": [
    "#переиндексирую получившийся на прошлом шаге датасет,\n",
    "#создам ряд, содержаший размер каждой когорты по first_month\n",
    "#выведу результат\n",
    "cohorts.reset_index(inplace=True)\n",
    "cohorts.set_index(['first_month', 'сohort_period'], inplace=True)\n",
    "cohort_group_size = cohorts['all_customers'].groupby(level=1).first()\n",
    "cohort_group_size.head(5)"
   ]
  },
  {
   "cell_type": "code",
   "execution_count": 63,
   "id": "7bd6ecfe",
   "metadata": {},
   "outputs": [
    {
     "data": {
      "text/plain": [
       "first_month  сohort_period\n",
       "2017-01      1                717\n",
       "             2                  4\n",
       "             3                  2\n",
       "             4                  1\n",
       "             5                  3\n",
       "Name: all_customers, dtype: int64"
      ]
     },
     "execution_count": 63,
     "metadata": {},
     "output_type": "execute_result"
    }
   ],
   "source": [
    "#также проверю заголовки созданного ранее ряда cohorts (all_customers)\n",
    "cohorts['all_customers'].head(5)"
   ]
  },
  {
   "cell_type": "code",
   "execution_count": 64,
   "id": "b3c105ca",
   "metadata": {
    "scrolled": false
   },
   "outputs": [
    {
     "data": {
      "text/html": [
       "<div>\n",
       "<style scoped>\n",
       "    .dataframe tbody tr th:only-of-type {\n",
       "        vertical-align: middle;\n",
       "    }\n",
       "\n",
       "    .dataframe tbody tr th {\n",
       "        vertical-align: top;\n",
       "    }\n",
       "\n",
       "    .dataframe thead th {\n",
       "        text-align: right;\n",
       "    }\n",
       "</style>\n",
       "<table border=\"1\" class=\"dataframe\">\n",
       "  <thead>\n",
       "    <tr style=\"text-align: right;\">\n",
       "      <th>сohort_period</th>\n",
       "      <th>1</th>\n",
       "      <th>2</th>\n",
       "      <th>3</th>\n",
       "      <th>4</th>\n",
       "      <th>5</th>\n",
       "      <th>6</th>\n",
       "      <th>7</th>\n",
       "      <th>8</th>\n",
       "      <th>9</th>\n",
       "      <th>10</th>\n",
       "      <th>11</th>\n",
       "    </tr>\n",
       "    <tr>\n",
       "      <th>first_month</th>\n",
       "      <th></th>\n",
       "      <th></th>\n",
       "      <th></th>\n",
       "      <th></th>\n",
       "      <th></th>\n",
       "      <th></th>\n",
       "      <th></th>\n",
       "      <th></th>\n",
       "      <th></th>\n",
       "      <th></th>\n",
       "      <th></th>\n",
       "    </tr>\n",
       "  </thead>\n",
       "  <tbody>\n",
       "    <tr>\n",
       "      <th>2017-01</th>\n",
       "      <td>717.0</td>\n",
       "      <td>4.0</td>\n",
       "      <td>2.0</td>\n",
       "      <td>1.0</td>\n",
       "      <td>3.0</td>\n",
       "      <td>1.0</td>\n",
       "      <td>3.0</td>\n",
       "      <td>1.0</td>\n",
       "      <td>1.0</td>\n",
       "      <td>2.0</td>\n",
       "      <td>2.0</td>\n",
       "    </tr>\n",
       "    <tr>\n",
       "      <th>2017-02</th>\n",
       "      <td>1674.0</td>\n",
       "      <td>4.0</td>\n",
       "      <td>4.0</td>\n",
       "      <td>3.0</td>\n",
       "      <td>7.0</td>\n",
       "      <td>2.0</td>\n",
       "      <td>4.0</td>\n",
       "      <td>3.0</td>\n",
       "      <td>1.0</td>\n",
       "      <td>3.0</td>\n",
       "      <td>2.0</td>\n",
       "    </tr>\n",
       "    <tr>\n",
       "      <th>2017-03</th>\n",
       "      <td>2580.0</td>\n",
       "      <td>13.0</td>\n",
       "      <td>9.0</td>\n",
       "      <td>9.0</td>\n",
       "      <td>9.0</td>\n",
       "      <td>4.0</td>\n",
       "      <td>4.0</td>\n",
       "      <td>8.0</td>\n",
       "      <td>8.0</td>\n",
       "      <td>3.0</td>\n",
       "      <td>NaN</td>\n",
       "    </tr>\n",
       "    <tr>\n",
       "      <th>2017-04</th>\n",
       "      <td>2302.0</td>\n",
       "      <td>14.0</td>\n",
       "      <td>5.0</td>\n",
       "      <td>4.0</td>\n",
       "      <td>6.0</td>\n",
       "      <td>6.0</td>\n",
       "      <td>8.0</td>\n",
       "      <td>6.0</td>\n",
       "      <td>8.0</td>\n",
       "      <td>NaN</td>\n",
       "      <td>NaN</td>\n",
       "    </tr>\n",
       "    <tr>\n",
       "      <th>2017-05</th>\n",
       "      <td>3543.0</td>\n",
       "      <td>19.0</td>\n",
       "      <td>17.0</td>\n",
       "      <td>14.0</td>\n",
       "      <td>11.0</td>\n",
       "      <td>12.0</td>\n",
       "      <td>15.0</td>\n",
       "      <td>5.0</td>\n",
       "      <td>NaN</td>\n",
       "      <td>NaN</td>\n",
       "      <td>NaN</td>\n",
       "    </tr>\n",
       "    <tr>\n",
       "      <th>2017-06</th>\n",
       "      <td>3110.0</td>\n",
       "      <td>14.0</td>\n",
       "      <td>11.0</td>\n",
       "      <td>12.0</td>\n",
       "      <td>8.0</td>\n",
       "      <td>11.0</td>\n",
       "      <td>11.0</td>\n",
       "      <td>NaN</td>\n",
       "      <td>NaN</td>\n",
       "      <td>NaN</td>\n",
       "      <td>NaN</td>\n",
       "    </tr>\n",
       "    <tr>\n",
       "      <th>2017-07</th>\n",
       "      <td>3777.0</td>\n",
       "      <td>20.0</td>\n",
       "      <td>12.0</td>\n",
       "      <td>7.0</td>\n",
       "      <td>13.0</td>\n",
       "      <td>7.0</td>\n",
       "      <td>NaN</td>\n",
       "      <td>NaN</td>\n",
       "      <td>NaN</td>\n",
       "      <td>NaN</td>\n",
       "      <td>NaN</td>\n",
       "    </tr>\n",
       "    <tr>\n",
       "      <th>2017-08</th>\n",
       "      <td>4154.0</td>\n",
       "      <td>28.0</td>\n",
       "      <td>15.0</td>\n",
       "      <td>11.0</td>\n",
       "      <td>16.0</td>\n",
       "      <td>NaN</td>\n",
       "      <td>NaN</td>\n",
       "      <td>NaN</td>\n",
       "      <td>NaN</td>\n",
       "      <td>NaN</td>\n",
       "      <td>NaN</td>\n",
       "    </tr>\n",
       "    <tr>\n",
       "      <th>2017-09</th>\n",
       "      <td>4098.0</td>\n",
       "      <td>27.0</td>\n",
       "      <td>20.0</td>\n",
       "      <td>13.0</td>\n",
       "      <td>NaN</td>\n",
       "      <td>NaN</td>\n",
       "      <td>NaN</td>\n",
       "      <td>NaN</td>\n",
       "      <td>NaN</td>\n",
       "      <td>NaN</td>\n",
       "      <td>NaN</td>\n",
       "    </tr>\n",
       "    <tr>\n",
       "      <th>2017-10</th>\n",
       "      <td>4360.0</td>\n",
       "      <td>30.0</td>\n",
       "      <td>13.0</td>\n",
       "      <td>NaN</td>\n",
       "      <td>NaN</td>\n",
       "      <td>NaN</td>\n",
       "      <td>NaN</td>\n",
       "      <td>NaN</td>\n",
       "      <td>NaN</td>\n",
       "      <td>NaN</td>\n",
       "      <td>NaN</td>\n",
       "    </tr>\n",
       "    <tr>\n",
       "      <th>2017-11</th>\n",
       "      <td>7054.0</td>\n",
       "      <td>39.0</td>\n",
       "      <td>NaN</td>\n",
       "      <td>NaN</td>\n",
       "      <td>NaN</td>\n",
       "      <td>NaN</td>\n",
       "      <td>NaN</td>\n",
       "      <td>NaN</td>\n",
       "      <td>NaN</td>\n",
       "      <td>NaN</td>\n",
       "      <td>NaN</td>\n",
       "    </tr>\n",
       "    <tr>\n",
       "      <th>2017-12</th>\n",
       "      <td>5529.0</td>\n",
       "      <td>NaN</td>\n",
       "      <td>NaN</td>\n",
       "      <td>NaN</td>\n",
       "      <td>NaN</td>\n",
       "      <td>NaN</td>\n",
       "      <td>NaN</td>\n",
       "      <td>NaN</td>\n",
       "      <td>NaN</td>\n",
       "      <td>NaN</td>\n",
       "      <td>NaN</td>\n",
       "    </tr>\n",
       "  </tbody>\n",
       "</table>\n",
       "</div>"
      ],
      "text/plain": [
       "сohort_period      1     2     3     4     5     6     7    8    9    10   11\n",
       "first_month                                                                  \n",
       "2017-01         717.0   4.0   2.0   1.0   3.0   1.0   3.0  1.0  1.0  2.0  2.0\n",
       "2017-02        1674.0   4.0   4.0   3.0   7.0   2.0   4.0  3.0  1.0  3.0  2.0\n",
       "2017-03        2580.0  13.0   9.0   9.0   9.0   4.0   4.0  8.0  8.0  3.0  NaN\n",
       "2017-04        2302.0  14.0   5.0   4.0   6.0   6.0   8.0  6.0  8.0  NaN  NaN\n",
       "2017-05        3543.0  19.0  17.0  14.0  11.0  12.0  15.0  5.0  NaN  NaN  NaN\n",
       "2017-06        3110.0  14.0  11.0  12.0   8.0  11.0  11.0  NaN  NaN  NaN  NaN\n",
       "2017-07        3777.0  20.0  12.0   7.0  13.0   7.0   NaN  NaN  NaN  NaN  NaN\n",
       "2017-08        4154.0  28.0  15.0  11.0  16.0   NaN   NaN  NaN  NaN  NaN  NaN\n",
       "2017-09        4098.0  27.0  20.0  13.0   NaN   NaN   NaN  NaN  NaN  NaN  NaN\n",
       "2017-10        4360.0  30.0  13.0   NaN   NaN   NaN   NaN  NaN  NaN  NaN  NaN\n",
       "2017-11        7054.0  39.0   NaN   NaN   NaN   NaN   NaN  NaN  NaN  NaN  NaN\n",
       "2017-12        5529.0   NaN   NaN   NaN   NaN   NaN   NaN  NaN  NaN  NaN  NaN"
      ]
     },
     "execution_count": 64,
     "metadata": {},
     "output_type": "execute_result"
    }
   ],
   "source": [
    "#расплавлю датасет, чтобы наглядно увидеть результат,\n",
    "#в индексах когорты, в столбцах — период после первой покупки,\n",
    "#в значениях — количество уникальных клиентов, пришедших после первой покупки\n",
    "cohorts = cohorts['all_customers'].unstack(1)\n",
    "cohorts"
   ]
  },
  {
   "cell_type": "code",
   "execution_count": 65,
   "id": "180a1d09",
   "metadata": {},
   "outputs": [],
   "source": [
    "#возьму в отдельную переменную значения строк по первому столбцу, для расчета retention\n",
    "cohort_size = cohorts.iloc[:,0]"
   ]
  },
  {
   "cell_type": "code",
   "execution_count": 66,
   "id": "4ff33c08",
   "metadata": {},
   "outputs": [],
   "source": [
    "#поделю каждую ячейку на его первое значение в строке, к которой он принадлежит - получу таблицу retention\n",
    "retention = cohorts.divide(cohort_size, axis = 0).mul(100).round(2)"
   ]
  },
  {
   "cell_type": "code",
   "execution_count": 67,
   "id": "5648a500",
   "metadata": {
    "scrolled": true
   },
   "outputs": [
    {
     "data": {
      "text/html": [
       "<style type=\"text/css\">\n",
       "#T_ae8aa_row0_col0, #T_ae8aa_row0_col4, #T_ae8aa_row0_col6, #T_ae8aa_row0_col9, #T_ae8aa_row0_col10, #T_ae8aa_row1_col0, #T_ae8aa_row1_col4, #T_ae8aa_row2_col0, #T_ae8aa_row2_col7, #T_ae8aa_row3_col0, #T_ae8aa_row3_col8, #T_ae8aa_row4_col0, #T_ae8aa_row4_col3, #T_ae8aa_row4_col6, #T_ae8aa_row5_col0, #T_ae8aa_row5_col5, #T_ae8aa_row6_col0, #T_ae8aa_row7_col0, #T_ae8aa_row8_col0, #T_ae8aa_row8_col2, #T_ae8aa_row9_col0, #T_ae8aa_row9_col1, #T_ae8aa_row10_col0, #T_ae8aa_row11_col0 {\n",
       "  background-color: yellow;\n",
       "}\n",
       "</style>\n",
       "<table id=\"T_ae8aa\">\n",
       "  <thead>\n",
       "    <tr>\n",
       "      <th class=\"index_name level0\" >сohort_period</th>\n",
       "      <th id=\"T_ae8aa_level0_col0\" class=\"col_heading level0 col0\" >1</th>\n",
       "      <th id=\"T_ae8aa_level0_col1\" class=\"col_heading level0 col1\" >2</th>\n",
       "      <th id=\"T_ae8aa_level0_col2\" class=\"col_heading level0 col2\" >3</th>\n",
       "      <th id=\"T_ae8aa_level0_col3\" class=\"col_heading level0 col3\" >4</th>\n",
       "      <th id=\"T_ae8aa_level0_col4\" class=\"col_heading level0 col4\" >5</th>\n",
       "      <th id=\"T_ae8aa_level0_col5\" class=\"col_heading level0 col5\" >6</th>\n",
       "      <th id=\"T_ae8aa_level0_col6\" class=\"col_heading level0 col6\" >7</th>\n",
       "      <th id=\"T_ae8aa_level0_col7\" class=\"col_heading level0 col7\" >8</th>\n",
       "      <th id=\"T_ae8aa_level0_col8\" class=\"col_heading level0 col8\" >9</th>\n",
       "      <th id=\"T_ae8aa_level0_col9\" class=\"col_heading level0 col9\" >10</th>\n",
       "      <th id=\"T_ae8aa_level0_col10\" class=\"col_heading level0 col10\" >11</th>\n",
       "    </tr>\n",
       "    <tr>\n",
       "      <th class=\"index_name level0\" >first_month</th>\n",
       "      <th class=\"blank col0\" >&nbsp;</th>\n",
       "      <th class=\"blank col1\" >&nbsp;</th>\n",
       "      <th class=\"blank col2\" >&nbsp;</th>\n",
       "      <th class=\"blank col3\" >&nbsp;</th>\n",
       "      <th class=\"blank col4\" >&nbsp;</th>\n",
       "      <th class=\"blank col5\" >&nbsp;</th>\n",
       "      <th class=\"blank col6\" >&nbsp;</th>\n",
       "      <th class=\"blank col7\" >&nbsp;</th>\n",
       "      <th class=\"blank col8\" >&nbsp;</th>\n",
       "      <th class=\"blank col9\" >&nbsp;</th>\n",
       "      <th class=\"blank col10\" >&nbsp;</th>\n",
       "    </tr>\n",
       "  </thead>\n",
       "  <tbody>\n",
       "    <tr>\n",
       "      <th id=\"T_ae8aa_level0_row0\" class=\"row_heading level0 row0\" >2017-01</th>\n",
       "      <td id=\"T_ae8aa_row0_col0\" class=\"data row0 col0\" >100.000000</td>\n",
       "      <td id=\"T_ae8aa_row0_col1\" class=\"data row0 col1\" >0.560000</td>\n",
       "      <td id=\"T_ae8aa_row0_col2\" class=\"data row0 col2\" >0.280000</td>\n",
       "      <td id=\"T_ae8aa_row0_col3\" class=\"data row0 col3\" >0.140000</td>\n",
       "      <td id=\"T_ae8aa_row0_col4\" class=\"data row0 col4\" >0.420000</td>\n",
       "      <td id=\"T_ae8aa_row0_col5\" class=\"data row0 col5\" >0.140000</td>\n",
       "      <td id=\"T_ae8aa_row0_col6\" class=\"data row0 col6\" >0.420000</td>\n",
       "      <td id=\"T_ae8aa_row0_col7\" class=\"data row0 col7\" >0.140000</td>\n",
       "      <td id=\"T_ae8aa_row0_col8\" class=\"data row0 col8\" >0.140000</td>\n",
       "      <td id=\"T_ae8aa_row0_col9\" class=\"data row0 col9\" >0.280000</td>\n",
       "      <td id=\"T_ae8aa_row0_col10\" class=\"data row0 col10\" >0.280000</td>\n",
       "    </tr>\n",
       "    <tr>\n",
       "      <th id=\"T_ae8aa_level0_row1\" class=\"row_heading level0 row1\" >2017-02</th>\n",
       "      <td id=\"T_ae8aa_row1_col0\" class=\"data row1 col0\" >100.000000</td>\n",
       "      <td id=\"T_ae8aa_row1_col1\" class=\"data row1 col1\" >0.240000</td>\n",
       "      <td id=\"T_ae8aa_row1_col2\" class=\"data row1 col2\" >0.240000</td>\n",
       "      <td id=\"T_ae8aa_row1_col3\" class=\"data row1 col3\" >0.180000</td>\n",
       "      <td id=\"T_ae8aa_row1_col4\" class=\"data row1 col4\" >0.420000</td>\n",
       "      <td id=\"T_ae8aa_row1_col5\" class=\"data row1 col5\" >0.120000</td>\n",
       "      <td id=\"T_ae8aa_row1_col6\" class=\"data row1 col6\" >0.240000</td>\n",
       "      <td id=\"T_ae8aa_row1_col7\" class=\"data row1 col7\" >0.180000</td>\n",
       "      <td id=\"T_ae8aa_row1_col8\" class=\"data row1 col8\" >0.060000</td>\n",
       "      <td id=\"T_ae8aa_row1_col9\" class=\"data row1 col9\" >0.180000</td>\n",
       "      <td id=\"T_ae8aa_row1_col10\" class=\"data row1 col10\" >0.120000</td>\n",
       "    </tr>\n",
       "    <tr>\n",
       "      <th id=\"T_ae8aa_level0_row2\" class=\"row_heading level0 row2\" >2017-03</th>\n",
       "      <td id=\"T_ae8aa_row2_col0\" class=\"data row2 col0\" >100.000000</td>\n",
       "      <td id=\"T_ae8aa_row2_col1\" class=\"data row2 col1\" >0.500000</td>\n",
       "      <td id=\"T_ae8aa_row2_col2\" class=\"data row2 col2\" >0.350000</td>\n",
       "      <td id=\"T_ae8aa_row2_col3\" class=\"data row2 col3\" >0.350000</td>\n",
       "      <td id=\"T_ae8aa_row2_col4\" class=\"data row2 col4\" >0.350000</td>\n",
       "      <td id=\"T_ae8aa_row2_col5\" class=\"data row2 col5\" >0.160000</td>\n",
       "      <td id=\"T_ae8aa_row2_col6\" class=\"data row2 col6\" >0.160000</td>\n",
       "      <td id=\"T_ae8aa_row2_col7\" class=\"data row2 col7\" >0.310000</td>\n",
       "      <td id=\"T_ae8aa_row2_col8\" class=\"data row2 col8\" >0.310000</td>\n",
       "      <td id=\"T_ae8aa_row2_col9\" class=\"data row2 col9\" >0.120000</td>\n",
       "      <td id=\"T_ae8aa_row2_col10\" class=\"data row2 col10\" >nan</td>\n",
       "    </tr>\n",
       "    <tr>\n",
       "      <th id=\"T_ae8aa_level0_row3\" class=\"row_heading level0 row3\" >2017-04</th>\n",
       "      <td id=\"T_ae8aa_row3_col0\" class=\"data row3 col0\" >100.000000</td>\n",
       "      <td id=\"T_ae8aa_row3_col1\" class=\"data row3 col1\" >0.610000</td>\n",
       "      <td id=\"T_ae8aa_row3_col2\" class=\"data row3 col2\" >0.220000</td>\n",
       "      <td id=\"T_ae8aa_row3_col3\" class=\"data row3 col3\" >0.170000</td>\n",
       "      <td id=\"T_ae8aa_row3_col4\" class=\"data row3 col4\" >0.260000</td>\n",
       "      <td id=\"T_ae8aa_row3_col5\" class=\"data row3 col5\" >0.260000</td>\n",
       "      <td id=\"T_ae8aa_row3_col6\" class=\"data row3 col6\" >0.350000</td>\n",
       "      <td id=\"T_ae8aa_row3_col7\" class=\"data row3 col7\" >0.260000</td>\n",
       "      <td id=\"T_ae8aa_row3_col8\" class=\"data row3 col8\" >0.350000</td>\n",
       "      <td id=\"T_ae8aa_row3_col9\" class=\"data row3 col9\" >nan</td>\n",
       "      <td id=\"T_ae8aa_row3_col10\" class=\"data row3 col10\" >nan</td>\n",
       "    </tr>\n",
       "    <tr>\n",
       "      <th id=\"T_ae8aa_level0_row4\" class=\"row_heading level0 row4\" >2017-05</th>\n",
       "      <td id=\"T_ae8aa_row4_col0\" class=\"data row4 col0\" >100.000000</td>\n",
       "      <td id=\"T_ae8aa_row4_col1\" class=\"data row4 col1\" >0.540000</td>\n",
       "      <td id=\"T_ae8aa_row4_col2\" class=\"data row4 col2\" >0.480000</td>\n",
       "      <td id=\"T_ae8aa_row4_col3\" class=\"data row4 col3\" >0.400000</td>\n",
       "      <td id=\"T_ae8aa_row4_col4\" class=\"data row4 col4\" >0.310000</td>\n",
       "      <td id=\"T_ae8aa_row4_col5\" class=\"data row4 col5\" >0.340000</td>\n",
       "      <td id=\"T_ae8aa_row4_col6\" class=\"data row4 col6\" >0.420000</td>\n",
       "      <td id=\"T_ae8aa_row4_col7\" class=\"data row4 col7\" >0.140000</td>\n",
       "      <td id=\"T_ae8aa_row4_col8\" class=\"data row4 col8\" >nan</td>\n",
       "      <td id=\"T_ae8aa_row4_col9\" class=\"data row4 col9\" >nan</td>\n",
       "      <td id=\"T_ae8aa_row4_col10\" class=\"data row4 col10\" >nan</td>\n",
       "    </tr>\n",
       "    <tr>\n",
       "      <th id=\"T_ae8aa_level0_row5\" class=\"row_heading level0 row5\" >2017-06</th>\n",
       "      <td id=\"T_ae8aa_row5_col0\" class=\"data row5 col0\" >100.000000</td>\n",
       "      <td id=\"T_ae8aa_row5_col1\" class=\"data row5 col1\" >0.450000</td>\n",
       "      <td id=\"T_ae8aa_row5_col2\" class=\"data row5 col2\" >0.350000</td>\n",
       "      <td id=\"T_ae8aa_row5_col3\" class=\"data row5 col3\" >0.390000</td>\n",
       "      <td id=\"T_ae8aa_row5_col4\" class=\"data row5 col4\" >0.260000</td>\n",
       "      <td id=\"T_ae8aa_row5_col5\" class=\"data row5 col5\" >0.350000</td>\n",
       "      <td id=\"T_ae8aa_row5_col6\" class=\"data row5 col6\" >0.350000</td>\n",
       "      <td id=\"T_ae8aa_row5_col7\" class=\"data row5 col7\" >nan</td>\n",
       "      <td id=\"T_ae8aa_row5_col8\" class=\"data row5 col8\" >nan</td>\n",
       "      <td id=\"T_ae8aa_row5_col9\" class=\"data row5 col9\" >nan</td>\n",
       "      <td id=\"T_ae8aa_row5_col10\" class=\"data row5 col10\" >nan</td>\n",
       "    </tr>\n",
       "    <tr>\n",
       "      <th id=\"T_ae8aa_level0_row6\" class=\"row_heading level0 row6\" >2017-07</th>\n",
       "      <td id=\"T_ae8aa_row6_col0\" class=\"data row6 col0\" >100.000000</td>\n",
       "      <td id=\"T_ae8aa_row6_col1\" class=\"data row6 col1\" >0.530000</td>\n",
       "      <td id=\"T_ae8aa_row6_col2\" class=\"data row6 col2\" >0.320000</td>\n",
       "      <td id=\"T_ae8aa_row6_col3\" class=\"data row6 col3\" >0.190000</td>\n",
       "      <td id=\"T_ae8aa_row6_col4\" class=\"data row6 col4\" >0.340000</td>\n",
       "      <td id=\"T_ae8aa_row6_col5\" class=\"data row6 col5\" >0.190000</td>\n",
       "      <td id=\"T_ae8aa_row6_col6\" class=\"data row6 col6\" >nan</td>\n",
       "      <td id=\"T_ae8aa_row6_col7\" class=\"data row6 col7\" >nan</td>\n",
       "      <td id=\"T_ae8aa_row6_col8\" class=\"data row6 col8\" >nan</td>\n",
       "      <td id=\"T_ae8aa_row6_col9\" class=\"data row6 col9\" >nan</td>\n",
       "      <td id=\"T_ae8aa_row6_col10\" class=\"data row6 col10\" >nan</td>\n",
       "    </tr>\n",
       "    <tr>\n",
       "      <th id=\"T_ae8aa_level0_row7\" class=\"row_heading level0 row7\" >2017-08</th>\n",
       "      <td id=\"T_ae8aa_row7_col0\" class=\"data row7 col0\" >100.000000</td>\n",
       "      <td id=\"T_ae8aa_row7_col1\" class=\"data row7 col1\" >0.670000</td>\n",
       "      <td id=\"T_ae8aa_row7_col2\" class=\"data row7 col2\" >0.360000</td>\n",
       "      <td id=\"T_ae8aa_row7_col3\" class=\"data row7 col3\" >0.260000</td>\n",
       "      <td id=\"T_ae8aa_row7_col4\" class=\"data row7 col4\" >0.390000</td>\n",
       "      <td id=\"T_ae8aa_row7_col5\" class=\"data row7 col5\" >nan</td>\n",
       "      <td id=\"T_ae8aa_row7_col6\" class=\"data row7 col6\" >nan</td>\n",
       "      <td id=\"T_ae8aa_row7_col7\" class=\"data row7 col7\" >nan</td>\n",
       "      <td id=\"T_ae8aa_row7_col8\" class=\"data row7 col8\" >nan</td>\n",
       "      <td id=\"T_ae8aa_row7_col9\" class=\"data row7 col9\" >nan</td>\n",
       "      <td id=\"T_ae8aa_row7_col10\" class=\"data row7 col10\" >nan</td>\n",
       "    </tr>\n",
       "    <tr>\n",
       "      <th id=\"T_ae8aa_level0_row8\" class=\"row_heading level0 row8\" >2017-09</th>\n",
       "      <td id=\"T_ae8aa_row8_col0\" class=\"data row8 col0\" >100.000000</td>\n",
       "      <td id=\"T_ae8aa_row8_col1\" class=\"data row8 col1\" >0.660000</td>\n",
       "      <td id=\"T_ae8aa_row8_col2\" class=\"data row8 col2\" >0.490000</td>\n",
       "      <td id=\"T_ae8aa_row8_col3\" class=\"data row8 col3\" >0.320000</td>\n",
       "      <td id=\"T_ae8aa_row8_col4\" class=\"data row8 col4\" >nan</td>\n",
       "      <td id=\"T_ae8aa_row8_col5\" class=\"data row8 col5\" >nan</td>\n",
       "      <td id=\"T_ae8aa_row8_col6\" class=\"data row8 col6\" >nan</td>\n",
       "      <td id=\"T_ae8aa_row8_col7\" class=\"data row8 col7\" >nan</td>\n",
       "      <td id=\"T_ae8aa_row8_col8\" class=\"data row8 col8\" >nan</td>\n",
       "      <td id=\"T_ae8aa_row8_col9\" class=\"data row8 col9\" >nan</td>\n",
       "      <td id=\"T_ae8aa_row8_col10\" class=\"data row8 col10\" >nan</td>\n",
       "    </tr>\n",
       "    <tr>\n",
       "      <th id=\"T_ae8aa_level0_row9\" class=\"row_heading level0 row9\" >2017-10</th>\n",
       "      <td id=\"T_ae8aa_row9_col0\" class=\"data row9 col0\" >100.000000</td>\n",
       "      <td id=\"T_ae8aa_row9_col1\" class=\"data row9 col1\" >0.690000</td>\n",
       "      <td id=\"T_ae8aa_row9_col2\" class=\"data row9 col2\" >0.300000</td>\n",
       "      <td id=\"T_ae8aa_row9_col3\" class=\"data row9 col3\" >nan</td>\n",
       "      <td id=\"T_ae8aa_row9_col4\" class=\"data row9 col4\" >nan</td>\n",
       "      <td id=\"T_ae8aa_row9_col5\" class=\"data row9 col5\" >nan</td>\n",
       "      <td id=\"T_ae8aa_row9_col6\" class=\"data row9 col6\" >nan</td>\n",
       "      <td id=\"T_ae8aa_row9_col7\" class=\"data row9 col7\" >nan</td>\n",
       "      <td id=\"T_ae8aa_row9_col8\" class=\"data row9 col8\" >nan</td>\n",
       "      <td id=\"T_ae8aa_row9_col9\" class=\"data row9 col9\" >nan</td>\n",
       "      <td id=\"T_ae8aa_row9_col10\" class=\"data row9 col10\" >nan</td>\n",
       "    </tr>\n",
       "    <tr>\n",
       "      <th id=\"T_ae8aa_level0_row10\" class=\"row_heading level0 row10\" >2017-11</th>\n",
       "      <td id=\"T_ae8aa_row10_col0\" class=\"data row10 col0\" >100.000000</td>\n",
       "      <td id=\"T_ae8aa_row10_col1\" class=\"data row10 col1\" >0.550000</td>\n",
       "      <td id=\"T_ae8aa_row10_col2\" class=\"data row10 col2\" >nan</td>\n",
       "      <td id=\"T_ae8aa_row10_col3\" class=\"data row10 col3\" >nan</td>\n",
       "      <td id=\"T_ae8aa_row10_col4\" class=\"data row10 col4\" >nan</td>\n",
       "      <td id=\"T_ae8aa_row10_col5\" class=\"data row10 col5\" >nan</td>\n",
       "      <td id=\"T_ae8aa_row10_col6\" class=\"data row10 col6\" >nan</td>\n",
       "      <td id=\"T_ae8aa_row10_col7\" class=\"data row10 col7\" >nan</td>\n",
       "      <td id=\"T_ae8aa_row10_col8\" class=\"data row10 col8\" >nan</td>\n",
       "      <td id=\"T_ae8aa_row10_col9\" class=\"data row10 col9\" >nan</td>\n",
       "      <td id=\"T_ae8aa_row10_col10\" class=\"data row10 col10\" >nan</td>\n",
       "    </tr>\n",
       "    <tr>\n",
       "      <th id=\"T_ae8aa_level0_row11\" class=\"row_heading level0 row11\" >2017-12</th>\n",
       "      <td id=\"T_ae8aa_row11_col0\" class=\"data row11 col0\" >100.000000</td>\n",
       "      <td id=\"T_ae8aa_row11_col1\" class=\"data row11 col1\" >nan</td>\n",
       "      <td id=\"T_ae8aa_row11_col2\" class=\"data row11 col2\" >nan</td>\n",
       "      <td id=\"T_ae8aa_row11_col3\" class=\"data row11 col3\" >nan</td>\n",
       "      <td id=\"T_ae8aa_row11_col4\" class=\"data row11 col4\" >nan</td>\n",
       "      <td id=\"T_ae8aa_row11_col5\" class=\"data row11 col5\" >nan</td>\n",
       "      <td id=\"T_ae8aa_row11_col6\" class=\"data row11 col6\" >nan</td>\n",
       "      <td id=\"T_ae8aa_row11_col7\" class=\"data row11 col7\" >nan</td>\n",
       "      <td id=\"T_ae8aa_row11_col8\" class=\"data row11 col8\" >nan</td>\n",
       "      <td id=\"T_ae8aa_row11_col9\" class=\"data row11 col9\" >nan</td>\n",
       "      <td id=\"T_ae8aa_row11_col10\" class=\"data row11 col10\" >nan</td>\n",
       "    </tr>\n",
       "  </tbody>\n",
       "</table>\n"
      ],
      "text/plain": [
       "<pandas.io.formats.style.Styler at 0x24493111730>"
      ]
     },
     "execution_count": 67,
     "metadata": {},
     "output_type": "execute_result"
    }
   ],
   "source": [
    "#выведу получившуюся таблицу retention и выделю цветом максимальные значения - по третьему месяцу лидер: сентябрь\n",
    "retention.style.highlight_max()"
   ]
  },
  {
   "cell_type": "markdown",
   "id": "197b0637",
   "metadata": {},
   "source": [
    "Визуализацию не строю, т.к. у нас очень низкий retention - визуализация не будет наглядна в данном случае."
   ]
  },
  {
   "cell_type": "markdown",
   "id": "afcbff1d",
   "metadata": {},
   "source": [
    "ВЫВОДЫ:\n",
    "\n",
    "1. В период с января по декабрь 2017 когорта с самым высоким retention на 3й месяц - \"сентябрь 2017\".\n",
    "\n",
    "2. В целом очень низкий уровень retention - большая часть пользователей сделала не больше 1 покупки;\n",
    "\n",
    "3. Это может быть не критичным, если мы продаем редкий и штучный товар. В противном случае необходимы меры по увеличению данного показателя.\n",
    "\n",
    "4. Частично столь низкий показатель retention можно объяснить тем, что очень большое количество товаров не доставляется вовремя до покупателя (такие клиенты, соответственно, к нам однозначно не возвращаются)."
   ]
  },
  {
   "cell_type": "markdown",
   "id": "b8045030",
   "metadata": {},
   "source": [
    "##############################################################################"
   ]
  },
  {
   "cell_type": "markdown",
   "id": "bb4b066d",
   "metadata": {},
   "source": [
    "ЧАСТЬ 8 (Решаю вопрос №6) \n",
    "\n",
    "Используя python, построй RFM-сегментацию пользователей, чтобы качественно оценить свою аудиторию."
   ]
  },
  {
   "cell_type": "markdown",
   "id": "fa8580d8",
   "metadata": {},
   "source": [
    "Чтобы провести RFM-анализ, нужно для каждого клиента найти величины: recency (R), frequency (F) и monetary (M).\n",
    "\n",
    "В данном случае это будет:\n",
    "\n",
    "R - время от последней покупки пользователя до текущей даты;\n",
    "F - суммарное количество покупок у пользователя за всё время;\n",
    "M - сумма покупок за всё время."
   ]
  },
  {
   "cell_type": "markdown",
   "id": "0b1a21b5",
   "metadata": {},
   "source": [
    "Для начала необходимо подготовить датасеты со всей необходимой информацией для расчетов указанных величин."
   ]
  },
  {
   "cell_type": "code",
   "execution_count": 68,
   "id": "d3967024",
   "metadata": {
    "scrolled": true
   },
   "outputs": [
    {
     "data": {
      "text/html": [
       "<div>\n",
       "<style scoped>\n",
       "    .dataframe tbody tr th:only-of-type {\n",
       "        vertical-align: middle;\n",
       "    }\n",
       "\n",
       "    .dataframe tbody tr th {\n",
       "        vertical-align: top;\n",
       "    }\n",
       "\n",
       "    .dataframe thead th {\n",
       "        text-align: right;\n",
       "    }\n",
       "</style>\n",
       "<table border=\"1\" class=\"dataframe\">\n",
       "  <thead>\n",
       "    <tr style=\"text-align: right;\">\n",
       "      <th></th>\n",
       "      <th>order_id</th>\n",
       "      <th>price</th>\n",
       "    </tr>\n",
       "  </thead>\n",
       "  <tbody>\n",
       "    <tr>\n",
       "      <th>0</th>\n",
       "      <td>00010242fe8c5a6d1ba2dd792cb16214</td>\n",
       "      <td>58.9</td>\n",
       "    </tr>\n",
       "    <tr>\n",
       "      <th>1</th>\n",
       "      <td>00018f77f2f0320c557190d7a144bdd3</td>\n",
       "      <td>239.9</td>\n",
       "    </tr>\n",
       "  </tbody>\n",
       "</table>\n",
       "</div>"
      ],
      "text/plain": [
       "                           order_id  price\n",
       "0  00010242fe8c5a6d1ba2dd792cb16214   58.9\n",
       "1  00018f77f2f0320c557190d7a144bdd3  239.9"
      ]
     },
     "execution_count": 68,
     "metadata": {},
     "output_type": "execute_result"
    }
   ],
   "source": [
    "#начну с получения денежных сумм по заказам\n",
    "sums = items.groupby('order_id', as_index=False).agg({'price': 'sum'})\n",
    "sums.head(2)"
   ]
  },
  {
   "cell_type": "code",
   "execution_count": 69,
   "id": "1d16d528",
   "metadata": {
    "scrolled": true
   },
   "outputs": [
    {
     "data": {
      "text/html": [
       "<div>\n",
       "<style scoped>\n",
       "    .dataframe tbody tr th:only-of-type {\n",
       "        vertical-align: middle;\n",
       "    }\n",
       "\n",
       "    .dataframe tbody tr th {\n",
       "        vertical-align: top;\n",
       "    }\n",
       "\n",
       "    .dataframe thead th {\n",
       "        text-align: right;\n",
       "    }\n",
       "</style>\n",
       "<table border=\"1\" class=\"dataframe\">\n",
       "  <thead>\n",
       "    <tr style=\"text-align: right;\">\n",
       "      <th></th>\n",
       "      <th>order_id</th>\n",
       "      <th>customer_id</th>\n",
       "      <th>order_status</th>\n",
       "      <th>order_purchase_timestamp</th>\n",
       "      <th>order_approved_at</th>\n",
       "      <th>order_delivered_carrier_date</th>\n",
       "      <th>order_delivered_customer_date</th>\n",
       "      <th>order_estimated_delivery_date</th>\n",
       "      <th>paid</th>\n",
       "      <th>customer_unique_id</th>\n",
       "      <th>customer_zip_code_prefix</th>\n",
       "      <th>customer_city</th>\n",
       "      <th>customer_state</th>\n",
       "      <th>price</th>\n",
       "    </tr>\n",
       "  </thead>\n",
       "  <tbody>\n",
       "    <tr>\n",
       "      <th>0</th>\n",
       "      <td>e481f51cbdc54678b7cc49136f2d6af7</td>\n",
       "      <td>9ef432eb6251297304e76186b10a928d</td>\n",
       "      <td>delivered</td>\n",
       "      <td>2017-10-02 10:56:33</td>\n",
       "      <td>2017-10-02 11:07:15</td>\n",
       "      <td>2017-10-04 19:55:00</td>\n",
       "      <td>2017-10-10 21:25:13</td>\n",
       "      <td>2017-10-18</td>\n",
       "      <td>True</td>\n",
       "      <td>7c396fd4830fd04220f754e42b4e5bff</td>\n",
       "      <td>3149</td>\n",
       "      <td>sao paulo</td>\n",
       "      <td>SP</td>\n",
       "      <td>29.99</td>\n",
       "    </tr>\n",
       "    <tr>\n",
       "      <th>1</th>\n",
       "      <td>53cdb2fc8bc7dce0b6741e2150273451</td>\n",
       "      <td>b0830fb4747a6c6d20dea0b8c802d7ef</td>\n",
       "      <td>delivered</td>\n",
       "      <td>2018-07-24 20:41:37</td>\n",
       "      <td>2018-07-26 03:24:27</td>\n",
       "      <td>2018-07-26 14:31:00</td>\n",
       "      <td>2018-08-07 15:27:45</td>\n",
       "      <td>2018-08-13</td>\n",
       "      <td>True</td>\n",
       "      <td>af07308b275d755c9edb36a90c618231</td>\n",
       "      <td>47813</td>\n",
       "      <td>barreiras</td>\n",
       "      <td>BA</td>\n",
       "      <td>118.70</td>\n",
       "    </tr>\n",
       "  </tbody>\n",
       "</table>\n",
       "</div>"
      ],
      "text/plain": [
       "                           order_id                       customer_id  \\\n",
       "0  e481f51cbdc54678b7cc49136f2d6af7  9ef432eb6251297304e76186b10a928d   \n",
       "1  53cdb2fc8bc7dce0b6741e2150273451  b0830fb4747a6c6d20dea0b8c802d7ef   \n",
       "\n",
       "  order_status order_purchase_timestamp   order_approved_at  \\\n",
       "0    delivered      2017-10-02 10:56:33 2017-10-02 11:07:15   \n",
       "1    delivered      2018-07-24 20:41:37 2018-07-26 03:24:27   \n",
       "\n",
       "  order_delivered_carrier_date order_delivered_customer_date  \\\n",
       "0          2017-10-04 19:55:00           2017-10-10 21:25:13   \n",
       "1          2018-07-26 14:31:00           2018-08-07 15:27:45   \n",
       "\n",
       "  order_estimated_delivery_date  paid                customer_unique_id  \\\n",
       "0                    2017-10-18  True  7c396fd4830fd04220f754e42b4e5bff   \n",
       "1                    2018-08-13  True  af07308b275d755c9edb36a90c618231   \n",
       "\n",
       "   customer_zip_code_prefix customer_city customer_state   price  \n",
       "0                      3149     sao paulo             SP   29.99  \n",
       "1                     47813     barreiras             BA  118.70  "
      ]
     },
     "execution_count": 69,
     "metadata": {},
     "output_type": "execute_result"
    }
   ],
   "source": [
    "#теперь соеденю с ранее созданным мной датасетом с покупками по принятой логике (true_orders)\n",
    "sums_merge = true_orders_CUid.merge(sums, on='order_id')\n",
    "sums_merge.head(2)"
   ]
  },
  {
   "cell_type": "code",
   "execution_count": 70,
   "id": "4d0dd857",
   "metadata": {},
   "outputs": [
    {
     "data": {
      "text/html": [
       "<div>\n",
       "<style scoped>\n",
       "    .dataframe tbody tr th:only-of-type {\n",
       "        vertical-align: middle;\n",
       "    }\n",
       "\n",
       "    .dataframe tbody tr th {\n",
       "        vertical-align: top;\n",
       "    }\n",
       "\n",
       "    .dataframe thead th {\n",
       "        text-align: right;\n",
       "    }\n",
       "</style>\n",
       "<table border=\"1\" class=\"dataframe\">\n",
       "  <thead>\n",
       "    <tr style=\"text-align: right;\">\n",
       "      <th></th>\n",
       "      <th>customers</th>\n",
       "      <th>customer_id</th>\n",
       "      <th>orders</th>\n",
       "      <th>orders_date</th>\n",
       "      <th>price</th>\n",
       "    </tr>\n",
       "  </thead>\n",
       "  <tbody>\n",
       "    <tr>\n",
       "      <th>0</th>\n",
       "      <td>7c396fd4830fd04220f754e42b4e5bff</td>\n",
       "      <td>9ef432eb6251297304e76186b10a928d</td>\n",
       "      <td>e481f51cbdc54678b7cc49136f2d6af7</td>\n",
       "      <td>2017-10-02 11:07:15</td>\n",
       "      <td>29.99</td>\n",
       "    </tr>\n",
       "    <tr>\n",
       "      <th>1</th>\n",
       "      <td>af07308b275d755c9edb36a90c618231</td>\n",
       "      <td>b0830fb4747a6c6d20dea0b8c802d7ef</td>\n",
       "      <td>53cdb2fc8bc7dce0b6741e2150273451</td>\n",
       "      <td>2018-07-26 03:24:27</td>\n",
       "      <td>118.70</td>\n",
       "    </tr>\n",
       "  </tbody>\n",
       "</table>\n",
       "</div>"
      ],
      "text/plain": [
       "                          customers                       customer_id  \\\n",
       "0  7c396fd4830fd04220f754e42b4e5bff  9ef432eb6251297304e76186b10a928d   \n",
       "1  af07308b275d755c9edb36a90c618231  b0830fb4747a6c6d20dea0b8c802d7ef   \n",
       "\n",
       "                             orders         orders_date   price  \n",
       "0  e481f51cbdc54678b7cc49136f2d6af7 2017-10-02 11:07:15   29.99  \n",
       "1  53cdb2fc8bc7dce0b6741e2150273451 2018-07-26 03:24:27  118.70  "
      ]
     },
     "execution_count": 70,
     "metadata": {},
     "output_type": "execute_result"
    }
   ],
   "source": [
    "#удалю ненужные столбцы, оставлю только необходимые для расчетов и переименую их для соответствия по сути содержимого\n",
    "sums_merge = sums_merge.loc[:,('customer_unique_id', 'customer_id', 'order_id', 'order_approved_at', 'price')]\n",
    "RFM = sums_merge.rename(columns={'customer_unique_id': 'customers', 'order_id':'orders', 'order_approved_at': 'orders_date'})\n",
    "RFM.head(2)"
   ]
  },
  {
   "cell_type": "code",
   "execution_count": 74,
   "id": "cac20e93",
   "metadata": {},
   "outputs": [
    {
     "data": {
      "text/plain": [
       "Timestamp('2018-09-04 17:40:06')"
      ]
     },
     "execution_count": 74,
     "metadata": {},
     "output_type": "execute_result"
    }
   ],
   "source": [
    "#для расчета recency необходима переменная с датой последнего заказа - создам и посмотрю на нее\n",
    "#к переменной прибавлю +1 для корректного расчета по последнему заказу (избавлюсь от нуля)\n",
    "last_order_date = (orders.order_approved_at.max() + timedelta(days=1))\n",
    "last_order_date"
   ]
  },
  {
   "cell_type": "code",
   "execution_count": 75,
   "id": "5eca2798",
   "metadata": {},
   "outputs": [
    {
     "data": {
      "text/html": [
       "<div>\n",
       "<style scoped>\n",
       "    .dataframe tbody tr th:only-of-type {\n",
       "        vertical-align: middle;\n",
       "    }\n",
       "\n",
       "    .dataframe tbody tr th {\n",
       "        vertical-align: top;\n",
       "    }\n",
       "\n",
       "    .dataframe thead th {\n",
       "        text-align: right;\n",
       "    }\n",
       "</style>\n",
       "<table border=\"1\" class=\"dataframe\">\n",
       "  <thead>\n",
       "    <tr style=\"text-align: right;\">\n",
       "      <th></th>\n",
       "      <th>customers</th>\n",
       "      <th>customer_id</th>\n",
       "      <th>orders</th>\n",
       "      <th>orders_date</th>\n",
       "      <th>price</th>\n",
       "      <th>since_order_period</th>\n",
       "    </tr>\n",
       "  </thead>\n",
       "  <tbody>\n",
       "    <tr>\n",
       "      <th>0</th>\n",
       "      <td>7c396fd4830fd04220f754e42b4e5bff</td>\n",
       "      <td>9ef432eb6251297304e76186b10a928d</td>\n",
       "      <td>e481f51cbdc54678b7cc49136f2d6af7</td>\n",
       "      <td>2017-10-02 11:07:15</td>\n",
       "      <td>29.99</td>\n",
       "      <td>337</td>\n",
       "    </tr>\n",
       "    <tr>\n",
       "      <th>1</th>\n",
       "      <td>af07308b275d755c9edb36a90c618231</td>\n",
       "      <td>b0830fb4747a6c6d20dea0b8c802d7ef</td>\n",
       "      <td>53cdb2fc8bc7dce0b6741e2150273451</td>\n",
       "      <td>2018-07-26 03:24:27</td>\n",
       "      <td>118.70</td>\n",
       "      <td>40</td>\n",
       "    </tr>\n",
       "  </tbody>\n",
       "</table>\n",
       "</div>"
      ],
      "text/plain": [
       "                          customers                       customer_id  \\\n",
       "0  7c396fd4830fd04220f754e42b4e5bff  9ef432eb6251297304e76186b10a928d   \n",
       "1  af07308b275d755c9edb36a90c618231  b0830fb4747a6c6d20dea0b8c802d7ef   \n",
       "\n",
       "                             orders         orders_date   price  \\\n",
       "0  e481f51cbdc54678b7cc49136f2d6af7 2017-10-02 11:07:15   29.99   \n",
       "1  53cdb2fc8bc7dce0b6741e2150273451 2018-07-26 03:24:27  118.70   \n",
       "\n",
       "   since_order_period  \n",
       "0                 337  \n",
       "1                  40  "
      ]
     },
     "execution_count": 75,
     "metadata": {},
     "output_type": "execute_result"
    }
   ],
   "source": [
    "#в созданный ранее датасет RFM добавлю, на основании сохранненой переменной, разницу в днях от заказа\n",
    "RFM['since_order_period'] = RFM['orders_date'].apply(lambda x: (last_order_date  - x).days)\n",
    "RFM.head(2)"
   ]
  },
  {
   "cell_type": "code",
   "execution_count": 76,
   "id": "149dad41",
   "metadata": {},
   "outputs": [
    {
     "data": {
      "text/html": [
       "<div>\n",
       "<style scoped>\n",
       "    .dataframe tbody tr th:only-of-type {\n",
       "        vertical-align: middle;\n",
       "    }\n",
       "\n",
       "    .dataframe tbody tr th {\n",
       "        vertical-align: top;\n",
       "    }\n",
       "\n",
       "    .dataframe thead th {\n",
       "        text-align: right;\n",
       "    }\n",
       "</style>\n",
       "<table border=\"1\" class=\"dataframe\">\n",
       "  <thead>\n",
       "    <tr style=\"text-align: right;\">\n",
       "      <th></th>\n",
       "      <th>customers</th>\n",
       "      <th>recency</th>\n",
       "      <th>frequency</th>\n",
       "      <th>monetary</th>\n",
       "    </tr>\n",
       "  </thead>\n",
       "  <tbody>\n",
       "    <tr>\n",
       "      <th>0</th>\n",
       "      <td>0000366f3b9a7992bf8c76cfdf3221e2</td>\n",
       "      <td>117</td>\n",
       "      <td>1</td>\n",
       "      <td>129.9</td>\n",
       "    </tr>\n",
       "    <tr>\n",
       "      <th>1</th>\n",
       "      <td>0000b849f77a49e4a4ce2b2a4ca5be3f</td>\n",
       "      <td>119</td>\n",
       "      <td>1</td>\n",
       "      <td>18.9</td>\n",
       "    </tr>\n",
       "  </tbody>\n",
       "</table>\n",
       "</div>"
      ],
      "text/plain": [
       "                          customers  recency  frequency  monetary\n",
       "0  0000366f3b9a7992bf8c76cfdf3221e2      117          1     129.9\n",
       "1  0000b849f77a49e4a4ce2b2a4ca5be3f      119          1      18.9"
      ]
     },
     "execution_count": 76,
     "metadata": {},
     "output_type": "execute_result"
    }
   ],
   "source": [
    "#cоздам датасет, в котором будут посчитаны: recency, frequency, monetary; также сразу выведу результат для контроля\n",
    "RFM_final = RFM.groupby('customers', as_index=False) \\\n",
    "                        .agg({'since_order_period': 'min',\n",
    "                              'customer_id': 'count',\n",
    "                              'price': 'sum'}) \\\n",
    "                        .rename(columns={'since_order_period': 'recency',\n",
    "                                     'customer_id': 'frequency',\n",
    "                                     'price': 'monetary'})\n",
    "RFM_final.head(2)"
   ]
  },
  {
   "cell_type": "markdown",
   "id": "580428cf",
   "metadata": {},
   "source": [
    "Для того чтобы определить на какие сегменты разбивать покупателей для анализа необходимо оценить квантили по указанным трем показателям.\n",
    "\n",
    "Также не помешает посмотреть на визуализацию распределения данных показателей."
   ]
  },
  {
   "cell_type": "code",
   "execution_count": 103,
   "id": "ad69e6c3",
   "metadata": {
    "scrolled": true
   },
   "outputs": [
    {
     "data": {
      "text/plain": [
       "{'recency': {0.33: 153.0, 0.55: 245.0, 0.66: 292.0, 0.83: 411.0, 0.99: 580.0},\n",
       " 'frequency': {0.33: 1.0, 0.55: 1.0, 0.66: 1.0, 0.83: 1.0, 0.99: 2.0},\n",
       " 'monetary': {0.33: 57.99,\n",
       "  0.55: 99.6,\n",
       "  0.66: 124.99,\n",
       "  0.83: 199.4,\n",
       "  0.99: 1004.99}}"
      ]
     },
     "execution_count": 103,
     "metadata": {},
     "output_type": "execute_result"
    }
   ],
   "source": [
    "#сразу занесу значение квантилей в словарь, для последующего использования\n",
    "#также видно, что для построения сегментов квантили по frequency не подойдут \n",
    "#по frequency (везде результат 1)\n",
    "quintiles = RFM_final[['recency', 'frequency', 'monetary']].quantile([.33, .55, .66, .83, .99]).to_dict()\n",
    "quintiles"
   ]
  },
  {
   "cell_type": "code",
   "execution_count": 78,
   "id": "53ee6263",
   "metadata": {},
   "outputs": [
    {
     "data": {
      "text/plain": [
       "132    1065\n",
       "283     872\n",
       "61      631\n",
       "284     591\n",
       "280     515\n",
       "       ... \n",
       "606       2\n",
       "691       1\n",
       "690       1\n",
       "719       1\n",
       "1         1\n",
       "Name: recency, Length: 611, dtype: int64"
      ]
     },
     "execution_count": 78,
     "metadata": {},
     "output_type": "execute_result"
    }
   ],
   "source": [
    "#посмотрю как можно определить сегментацию по recency\n",
    "RFM_final.recency.value_counts()"
   ]
  },
  {
   "cell_type": "code",
   "execution_count": 79,
   "id": "cdb0a7fb",
   "metadata": {
    "scrolled": false
   },
   "outputs": [
    {
     "data": {
      "text/plain": [
       "1     92084\n",
       "2      2650\n",
       "3       188\n",
       "4        29\n",
       "5         9\n",
       "6         5\n",
       "7         3\n",
       "9         1\n",
       "16        1\n",
       "Name: frequency, dtype: int64"
      ]
     },
     "execution_count": 79,
     "metadata": {},
     "output_type": "execute_result"
    }
   ],
   "source": [
    "#посмотрю как можно определить сегментацию по frequency\n",
    "RFM_final.frequency.value_counts()"
   ]
  },
  {
   "cell_type": "code",
   "execution_count": 80,
   "id": "7911ede3",
   "metadata": {},
   "outputs": [
    {
     "data": {
      "text/plain": [
       "59.90      1603\n",
       "69.90      1493\n",
       "49.90      1335\n",
       "89.90      1153\n",
       "99.90      1128\n",
       "           ... \n",
       "269.74        1\n",
       "348.88        1\n",
       "39.90         1\n",
       "112.98        1\n",
       "1570.00       1\n",
       "Name: monetary, Length: 8562, dtype: int64"
      ]
     },
     "execution_count": 80,
     "metadata": {},
     "output_type": "execute_result"
    }
   ],
   "source": [
    "#посмотрю как можно определить сегментацию по monetary\n",
    "RFM_final.monetary.value_counts()"
   ]
  },
  {
   "cell_type": "code",
   "execution_count": 81,
   "id": "bc7c204c",
   "metadata": {
    "scrolled": false
   },
   "outputs": [
    {
     "data": {
      "text/plain": [
       "<AxesSubplot:xlabel='recency', ylabel='Count'>"
      ]
     },
     "execution_count": 81,
     "metadata": {},
     "output_type": "execute_result"
    },
    {
     "data": {
      "image/png": "[encoded data removed]",
      "text/plain": [
       "<Figure size 1000x300 with 1 Axes>"
      ]
     },
     "metadata": {},
     "output_type": "display_data"
    }
   ],
   "source": [
    "#распределение параметра \"recency\"\n",
    "plt.figure(figsize=(10,3))\n",
    "sns.histplot(RFM_final.recency)"
   ]
  },
  {
   "cell_type": "code",
   "execution_count": 82,
   "id": "e52db68f",
   "metadata": {},
   "outputs": [
    {
     "data": {
      "text/plain": [
       "<AxesSubplot:xlabel='frequency', ylabel='Count'>"
      ]
     },
     "execution_count": 82,
     "metadata": {},
     "output_type": "execute_result"
    },
    {
     "data": {
      "image/png": "[encoded data removed]",
      "text/plain": [
       "<Figure size 1000x300 with 1 Axes>"
      ]
     },
     "metadata": {},
     "output_type": "display_data"
    }
   ],
   "source": [
    "#распределение параметра \"frequency\", по значениям менее 5\n",
    "plt.figure(figsize=(10,3))\n",
    "sns.histplot(RFM_final.query(\"frequency < 5\").frequency)"
   ]
  },
  {
   "cell_type": "code",
   "execution_count": 83,
   "id": "1803ec0d",
   "metadata": {
    "scrolled": false
   },
   "outputs": [
    {
     "data": {
      "text/plain": [
       "<AxesSubplot:xlabel='monetary', ylabel='Count'>"
      ]
     },
     "execution_count": 83,
     "metadata": {},
     "output_type": "execute_result"
    },
    {
     "data": {
      "image/png": "[encoded data removed]",
      "text/plain": [
       "<Figure size 1000x300 with 1 Axes>"
      ]
     },
     "metadata": {},
     "output_type": "display_data"
    }
   ],
   "source": [
    "#распределение параметра \"monetary\", по значениям менее 400\n",
    "plt.figure(figsize=(10,3))\n",
    "sns.histplot(RFM_final.query(\"monetary < 400\").monetary)"
   ]
  },
  {
   "cell_type": "markdown",
   "id": "0bbad4c2",
   "metadata": {},
   "source": [
    "По результатам проверки установил следующее:\n",
    "\n",
    "Распределение \"recency\" довольно равномерно (хотя нормальности нет). Логично будет разделить его равномерно на три части: по 33-му и 66-му квантилям.\n",
    "\n",
    "\"frequency\" показывает, что подавляющее большинство покупателей совершали всего лишь одну покупку. Разделю на 4 подгруппы: 1 - покупатели, оформившие один заказ; 2 - покупатели с двумя покупками; 3 - совершившие 3/4 покупки; 4 - покупатели, сделавшие 5 и более покупок.\n",
    "\n",
    "Распределение параметра \"monetary\" также ненормальное, большая часть значений слева. Большая часть покупок не превышает сумму 200. В данном случае, кажется оптимальным вариантом взять также 3 категории. Поделим группу слева (до 200) примерно пополам (до  и после 55 квантиля), а также возьмем всех остальных (с 83 квантиля). Итого получатся группы: покупатели до 55-го квантиля (сумма до ~ 100) , от 55 до 83-го (сумма ~ 100-200) и свыше 83-го квантиля (оставшиеся покупатели - свыше ~ 200)."
   ]
  },
  {
   "cell_type": "code",
   "execution_count": 104,
   "id": "6a9039e6",
   "metadata": {},
   "outputs": [],
   "source": [
    "#пишу функции для определения указанных выше сегментов в таблице\n",
    "# r_score: чем выше оценка, тем более \"давним\" считается клиент\n",
    "def r_score(x):\n",
    "    if x <= quintiles['recency'][.33]:\n",
    "        return 1\n",
    "    elif x <= quintiles['recency'][.66]:\n",
    "        return 2\n",
    "    else:\n",
    "        return 3\n",
    "# f_score: чем выше оценка, тем больше заказов сделал клиент\n",
    "def f_score(x):\n",
    "    if x == 1:\n",
    "        return 1\n",
    "    elif x == 2:\n",
    "        return 2\n",
    "    elif x ==3 or x == 4:\n",
    "        return 3\n",
    "    else:\n",
    "        return 4  \n",
    "# m_score: чем выше оценка, тем большую сумму клиент потратил\n",
    "def m_score(x):\n",
    "    if x <= quintiles['monetary'][0.55]:\n",
    "        return 1\n",
    "    elif x <= quintiles['monetary'][0.83]:\n",
    "        return 2\n",
    "    else:\n",
    "        return 3"
   ]
  },
  {
   "cell_type": "code",
   "execution_count": 105,
   "id": "b68eb1d0",
   "metadata": {},
   "outputs": [
    {
     "data": {
      "text/html": [
       "<div>\n",
       "<style scoped>\n",
       "    .dataframe tbody tr th:only-of-type {\n",
       "        vertical-align: middle;\n",
       "    }\n",
       "\n",
       "    .dataframe tbody tr th {\n",
       "        vertical-align: top;\n",
       "    }\n",
       "\n",
       "    .dataframe thead th {\n",
       "        text-align: right;\n",
       "    }\n",
       "</style>\n",
       "<table border=\"1\" class=\"dataframe\">\n",
       "  <thead>\n",
       "    <tr style=\"text-align: right;\">\n",
       "      <th></th>\n",
       "      <th>customers</th>\n",
       "      <th>recency</th>\n",
       "      <th>frequency</th>\n",
       "      <th>monetary</th>\n",
       "      <th>R</th>\n",
       "      <th>F</th>\n",
       "      <th>M</th>\n",
       "      <th>RFM Score</th>\n",
       "    </tr>\n",
       "  </thead>\n",
       "  <tbody>\n",
       "    <tr>\n",
       "      <th>0</th>\n",
       "      <td>0000366f3b9a7992bf8c76cfdf3221e2</td>\n",
       "      <td>117</td>\n",
       "      <td>1</td>\n",
       "      <td>129.9</td>\n",
       "      <td>1</td>\n",
       "      <td>1</td>\n",
       "      <td>2</td>\n",
       "      <td>112</td>\n",
       "    </tr>\n",
       "    <tr>\n",
       "      <th>1</th>\n",
       "      <td>0000b849f77a49e4a4ce2b2a4ca5be3f</td>\n",
       "      <td>119</td>\n",
       "      <td>1</td>\n",
       "      <td>18.9</td>\n",
       "      <td>1</td>\n",
       "      <td>1</td>\n",
       "      <td>1</td>\n",
       "      <td>111</td>\n",
       "    </tr>\n",
       "    <tr>\n",
       "      <th>2</th>\n",
       "      <td>0000f46a3911fa3c0805444483337064</td>\n",
       "      <td>542</td>\n",
       "      <td>1</td>\n",
       "      <td>69.0</td>\n",
       "      <td>3</td>\n",
       "      <td>1</td>\n",
       "      <td>1</td>\n",
       "      <td>311</td>\n",
       "    </tr>\n",
       "  </tbody>\n",
       "</table>\n",
       "</div>"
      ],
      "text/plain": [
       "                          customers  recency  frequency  monetary  R  F  M  \\\n",
       "0  0000366f3b9a7992bf8c76cfdf3221e2      117          1     129.9  1  1  2   \n",
       "1  0000b849f77a49e4a4ce2b2a4ca5be3f      119          1      18.9  1  1  1   \n",
       "2  0000f46a3911fa3c0805444483337064      542          1      69.0  3  1  1   \n",
       "\n",
       "  RFM Score  \n",
       "0       112  \n",
       "1       111  \n",
       "2       311  "
      ]
     },
     "execution_count": 105,
     "metadata": {},
     "output_type": "execute_result"
    }
   ],
   "source": [
    "#применю функции, добавив в таблицу ранги покупателей, а также сделаю сводный ранг\n",
    "RFM_final['R'] = RFM_final['recency'].apply(lambda x: r_score(x))\n",
    "RFM_final['F'] = RFM_final['frequency'].apply(lambda x: f_score(x))\n",
    "RFM_final['M'] = RFM_final['monetary'].apply(lambda x: m_score(x))\n",
    "RFM_final['RFM Score'] = RFM_final['R'].map(str) + RFM_final['F'].map(str) + RFM_final['M'].map(str)\n",
    "RFM_final.head(3)"
   ]
  },
  {
   "cell_type": "markdown",
   "id": "f8289d97",
   "metadata": {},
   "source": [
    "Делю покупателей на разные кластеры в зависимости от параметров \"recency\" и \"frequency\":\n",
    "\n",
    "r=1, f=1 — 'newbe' (свежие покупатели, у которых 1 заказ и которые не спешат делать второй);\n",
    "\n",
    "r=1, f=2 — 'developing' (покупали 2 раза, последняя активность была также недавно);\n",
    "\n",
    "r=1, f=3 — 'loyal' (покупали много, последняя покупка не очень давно);\n",
    "\n",
    "r=1, f=4 — 'VIP' (очень много покупок, последняя недавно);\n",
    "\n",
    "r=2, f=1,2,3 or 4  — 'sleeping' (последняя покупка имеет среднюю давность, вне зависимости от общего количества покупок);\n",
    "\n",
    "r=3, f=1 or 2 — 'lost' (последняя покупка сделана давно, покупок было немного);\n",
    "\n",
    "r=3, f=3 or 4 — 'lost loyalists' (было много покупок, но последняя была сделана давно)."
   ]
  },
  {
   "cell_type": "markdown",
   "id": "bf5435b3",
   "metadata": {},
   "source": [
    "В числовых выражениях данных показателей это будет следующее деление:\n",
    "\n",
    "Recency:    \n",
    "1 — от 0 до 153 дней;    \n",
    "2 — от 153 до 292 дней;  \n",
    "3 — от 292 дней.\n",
    "\n",
    "Frequency:    \n",
    "1 — 1 заказ;    \n",
    "2 — 2 заказа;    \n",
    "3 — 3 или 4 заказа;    \n",
    "4 — 5 и более заказов.    \n",
    "\n",
    "Monetary:    \n",
    "1 — от 0 до 100;    \n",
    "2 — от 100 до 200;    \n",
    "3 — свыше 200.    "
   ]
  },
  {
   "cell_type": "code",
   "execution_count": 113,
   "id": "de6a0434",
   "metadata": {
    "scrolled": true
   },
   "outputs": [
    {
     "data": {
      "text/html": [
       "<img src=\"rfm_distribution.png\"/>"
      ],
      "text/plain": [
       "<IPython.core.display.Image object>"
      ]
     },
     "execution_count": 113,
     "metadata": {},
     "output_type": "execute_result"
    }
   ],
   "source": [
    "#Графически это выглядит так:\n",
    "img = 'rfm_distribution.png'\n",
    "Image(url=img)"
   ]
  },
  {
   "cell_type": "code",
   "execution_count": 114,
   "id": "ddcb7bcc",
   "metadata": {},
   "outputs": [],
   "source": [
    "#создам словарь с такими же ключами и значениями, как узазаны выше\n",
    "rf_map = {\n",
    "    r'11': 'newbe',\n",
    "    r'12': 'developing',\n",
    "    r'13': 'loyal',\n",
    "    r'14': 'VIP',\n",
    "    r'2[1234]': 'sleeping',\n",
    "    r'3[12]': 'lost',\n",
    "    r'3[34]': 'lost loyalists'}"
   ]
  },
  {
   "cell_type": "code",
   "execution_count": 118,
   "id": "73bc0bab",
   "metadata": {},
   "outputs": [
    {
     "data": {
      "text/html": [
       "<div>\n",
       "<style scoped>\n",
       "    .dataframe tbody tr th:only-of-type {\n",
       "        vertical-align: middle;\n",
       "    }\n",
       "\n",
       "    .dataframe tbody tr th {\n",
       "        vertical-align: top;\n",
       "    }\n",
       "\n",
       "    .dataframe thead th {\n",
       "        text-align: right;\n",
       "    }\n",
       "</style>\n",
       "<table border=\"1\" class=\"dataframe\">\n",
       "  <thead>\n",
       "    <tr style=\"text-align: right;\">\n",
       "      <th></th>\n",
       "      <th>customers</th>\n",
       "      <th>recency</th>\n",
       "      <th>frequency</th>\n",
       "      <th>monetary</th>\n",
       "      <th>R</th>\n",
       "      <th>F</th>\n",
       "      <th>M</th>\n",
       "      <th>RFM Score</th>\n",
       "      <th>cluster</th>\n",
       "    </tr>\n",
       "  </thead>\n",
       "  <tbody>\n",
       "    <tr>\n",
       "      <th>0</th>\n",
       "      <td>0000366f3b9a7992bf8c76cfdf3221e2</td>\n",
       "      <td>117</td>\n",
       "      <td>1</td>\n",
       "      <td>129.90</td>\n",
       "      <td>1</td>\n",
       "      <td>1</td>\n",
       "      <td>2</td>\n",
       "      <td>112</td>\n",
       "      <td>newbe</td>\n",
       "    </tr>\n",
       "    <tr>\n",
       "      <th>1</th>\n",
       "      <td>0000b849f77a49e4a4ce2b2a4ca5be3f</td>\n",
       "      <td>119</td>\n",
       "      <td>1</td>\n",
       "      <td>18.90</td>\n",
       "      <td>1</td>\n",
       "      <td>1</td>\n",
       "      <td>1</td>\n",
       "      <td>111</td>\n",
       "      <td>newbe</td>\n",
       "    </tr>\n",
       "    <tr>\n",
       "      <th>2</th>\n",
       "      <td>0000f46a3911fa3c0805444483337064</td>\n",
       "      <td>542</td>\n",
       "      <td>1</td>\n",
       "      <td>69.00</td>\n",
       "      <td>3</td>\n",
       "      <td>1</td>\n",
       "      <td>1</td>\n",
       "      <td>311</td>\n",
       "      <td>lost</td>\n",
       "    </tr>\n",
       "    <tr>\n",
       "      <th>3</th>\n",
       "      <td>0000f6ccb0745a6a4b88665a16c9f078</td>\n",
       "      <td>326</td>\n",
       "      <td>1</td>\n",
       "      <td>25.99</td>\n",
       "      <td>3</td>\n",
       "      <td>1</td>\n",
       "      <td>1</td>\n",
       "      <td>311</td>\n",
       "      <td>lost</td>\n",
       "    </tr>\n",
       "    <tr>\n",
       "      <th>4</th>\n",
       "      <td>0004aac84e0df4da2b147fca70cf8255</td>\n",
       "      <td>293</td>\n",
       "      <td>1</td>\n",
       "      <td>180.00</td>\n",
       "      <td>3</td>\n",
       "      <td>1</td>\n",
       "      <td>2</td>\n",
       "      <td>312</td>\n",
       "      <td>lost</td>\n",
       "    </tr>\n",
       "    <tr>\n",
       "      <th>5</th>\n",
       "      <td>0004bd2a26a76fe21f786e4fbd80607f</td>\n",
       "      <td>151</td>\n",
       "      <td>1</td>\n",
       "      <td>154.00</td>\n",
       "      <td>1</td>\n",
       "      <td>1</td>\n",
       "      <td>2</td>\n",
       "      <td>112</td>\n",
       "      <td>newbe</td>\n",
       "    </tr>\n",
       "    <tr>\n",
       "      <th>6</th>\n",
       "      <td>00050ab1314c0e55a6ca13cf7181fecf</td>\n",
       "      <td>132</td>\n",
       "      <td>1</td>\n",
       "      <td>27.99</td>\n",
       "      <td>1</td>\n",
       "      <td>1</td>\n",
       "      <td>1</td>\n",
       "      <td>111</td>\n",
       "      <td>newbe</td>\n",
       "    </tr>\n",
       "  </tbody>\n",
       "</table>\n",
       "</div>"
      ],
      "text/plain": [
       "                          customers  recency  frequency  monetary  R  F  M  \\\n",
       "0  0000366f3b9a7992bf8c76cfdf3221e2      117          1    129.90  1  1  2   \n",
       "1  0000b849f77a49e4a4ce2b2a4ca5be3f      119          1     18.90  1  1  1   \n",
       "2  0000f46a3911fa3c0805444483337064      542          1     69.00  3  1  1   \n",
       "3  0000f6ccb0745a6a4b88665a16c9f078      326          1     25.99  3  1  1   \n",
       "4  0004aac84e0df4da2b147fca70cf8255      293          1    180.00  3  1  2   \n",
       "5  0004bd2a26a76fe21f786e4fbd80607f      151          1    154.00  1  1  2   \n",
       "6  00050ab1314c0e55a6ca13cf7181fecf      132          1     27.99  1  1  1   \n",
       "\n",
       "  RFM Score cluster  \n",
       "0       112   newbe  \n",
       "1       111   newbe  \n",
       "2       311    lost  \n",
       "3       311    lost  \n",
       "4       312    lost  \n",
       "5       112   newbe  \n",
       "6       111   newbe  "
      ]
     },
     "execution_count": 118,
     "metadata": {},
     "output_type": "execute_result"
    }
   ],
   "source": [
    "#cоздам новую колонку, по созданному выше словарю,\n",
    "#что позволит зачислить каждого покупателя в отдельный кластер в зависимости от \"frequency\" и \"recency\",\n",
    "#а также сразу проверю результат\n",
    "RFM_final['cluster'] = RFM_final['R'].map(str) + RFM_final['F'].map(str)\n",
    "RFM_final['cluster'] = RFM_final['cluster'].replace(rf_map, regex=True)\n",
    "RFM_final.head(7)"
   ]
  },
  {
   "cell_type": "code",
   "execution_count": 120,
   "id": "dfe36a89",
   "metadata": {},
   "outputs": [
    {
     "data": {
      "image/png": "[encoded data removed]",
      "text/plain": [
       "<Figure size 1000x400 with 2 Axes>"
      ]
     },
     "metadata": {},
     "output_type": "display_data"
    },
    {
     "data": {
      "image/png": "[encoded data removed]",
      "text/plain": [
       "<Figure size 1000x1000 with 12 Axes>"
      ]
     },
     "metadata": {},
     "output_type": "display_data"
    }
   ],
   "source": [
    "#строю распределение пользователей по значенияим \"recency\" и \"frequency\"\n",
    "\n",
    "fig, axes = plt.subplots(nrows=1, ncols=2, figsize=(10, 4))\n",
    "\n",
    "for i, p in enumerate(['R', 'F']):\n",
    "    parameters = {'R':'recency', 'F':'frequency'}\n",
    "    y = RFM_final[p].value_counts().sort_index()\n",
    "    x = y.index\n",
    "    ax = axes[i]\n",
    "    bars = ax.bar(x, y, color='silver')\n",
    "    ax.set_frame_on(False)\n",
    "    ax.tick_params(left=False, labelleft=False, bottom=False)\n",
    "    ax.set_title('Distribution of {}'.format(parameters[p]),\n",
    "                fontsize=14)\n",
    "    for bar in bars:\n",
    "        value = bar.get_height()\n",
    "        if value == y.max():\n",
    "            bar.set_color('firebrick')\n",
    "        ax.text(bar.get_x() + bar.get_width() / 2,\n",
    "                value - 5,\n",
    "                '{}\\n({}%)'.format(int(value), int(value * 100 / y.sum())),\n",
    "               ha='center',\n",
    "               va='top',\n",
    "               color='w')\n",
    "plt.show()\n",
    "\n",
    "#теперь строю распределение параметра \"monetary\" по RF-значениям\n",
    "\n",
    "fig, axes = plt.subplots(nrows=3, ncols=4,\n",
    "                         sharex=False, sharey=True,\n",
    "                         figsize=(10, 10))\n",
    "\n",
    "r_range = range(1, 4)\n",
    "f_range = range(1, 5)\n",
    "for r in r_range:\n",
    "    for f in f_range:\n",
    "        y = RFM_final[(RFM_final['R'] == r) & (RFM_final['F'] == f)]['M'].value_counts().sort_index()\n",
    "        x = y.index\n",
    "        ax = axes[r - 1, f - 1]\n",
    "        bars = ax.bar(x, y, color='silver')\n",
    "        if r == 3:\n",
    "            if f == 3:\n",
    "                ax.set_xlabel('{}\\nF'.format(f), va='top')\n",
    "            else:\n",
    "                ax.set_xlabel('{}\\n'.format(f), va='top')\n",
    "        if f == 1:\n",
    "            if r == 2:\n",
    "                ax.set_ylabel('R\\n{}'.format(r))\n",
    "            else:\n",
    "                ax.set_ylabel(r)\n",
    "        ax.set_frame_on(False)\n",
    "        ax.tick_params(left=False, labelleft=False, bottom=False)\n",
    "        ax.set_xticks(x)\n",
    "        ax.set_xticklabels(x, fontsize=8)\n",
    "\n",
    "        for bar in bars:\n",
    "            value = bar.get_height()\n",
    "            if value == y.max():\n",
    "                bar.set_color('firebrick')\n",
    "            ax.text(bar.get_x() + bar.get_width() / 2,\n",
    "                    value,\n",
    "                    int(value),\n",
    "                    ha='center',\n",
    "                    va='bottom',\n",
    "                    color='k')\n",
    "fig.suptitle('Distribution of M for each F and R',\n",
    "             fontsize=14)\n",
    "plt.tight_layout()\n",
    "plt.show()"
   ]
  },
  {
   "cell_type": "markdown",
   "id": "cd0d277d",
   "metadata": {},
   "source": [
    "Как было видно и на предыдущих графиках по распределению, \"recency\" имеет ровную форму, \"frequency\" же ясно показывает, что больше всего клиентов совершили только один заказ.\n",
    "\n",
    "Также заметно, что для frequency 3/4 покупателей почти нет.\n",
    "\n",
    "Покупатели для frequency 1/2 по разным по R  почти не отличаются.\n",
    "\n",
    "Таким образом, можно сделать выводы:\n",
    "1. что большинство клиентов покупали одну покупку (frequency 1);\n",
    "2. сумма покупки в большинстве случаев не превышала 100 (monetary 1)."
   ]
  },
  {
   "cell_type": "code",
   "execution_count": 125,
   "id": "7c4699c0",
   "metadata": {},
   "outputs": [
    {
     "data": {
      "image/png": "[encoded data removed]",
      "text/plain": [
       "<Figure size 640x480 with 1 Axes>"
      ]
     },
     "metadata": {},
     "output_type": "display_data"
    }
   ],
   "source": [
    "#теперь посчитаю покупателей для каждого кластера\n",
    "cluster_counts = RFM_final['cluster'].value_counts().sort_values(ascending=True)\n",
    "\n",
    "fig, ax = plt.subplots()\n",
    "\n",
    "bars = ax.barh(range(len(cluster_counts)),\n",
    "              cluster_counts,\n",
    "              color='silver')\n",
    "ax.set_frame_on(False)\n",
    "ax.tick_params(left=False,\n",
    "               bottom=False,\n",
    "               labelbottom=False)\n",
    "ax.set_yticks(range(len(cluster_counts)))\n",
    "ax.set_yticklabels(cluster_counts.index)\n",
    "\n",
    "for i, bar in enumerate(bars):\n",
    "        value = bar.get_width()\n",
    "        if cluster_counts.index[i] == 'lost':\n",
    "            bar.set_color('red')\n",
    "        elif cluster_counts.index[i] == 'sleeping':\n",
    "            bar.set_color('orange')\n",
    "        elif cluster_counts.index[i] == 'newbe':\n",
    "            bar.set_color('green')\n",
    "        ax.text(value,\n",
    "                bar.get_y() + bar.get_height()/2,\n",
    "                '{:,} ({:.2f}%)'.format(int(value),\n",
    "                                   float(value*100/cluster_counts.sum())),\n",
    "                va='center',\n",
    "                ha='left'\n",
    "               )\n",
    "\n",
    "plt.show()"
   ]
  },
  {
   "cell_type": "markdown",
   "id": "2e61e197",
   "metadata": {},
   "source": [
    "По итоговому графику видно, что большая часть (~ 34%) наших покупателей находится в категории \"lost\", т.е. мы их уже потеряли.\n",
    "\n",
    "Вместе с тем, позитивным моментом является то, что кластеры покупателей \"sleeping\" и \"newbe\" совокупно (~ 33 и 30% соответственно) превышают категорию lost - еще не все потеряно. Т.к. указанные две категории, потенциальные покупатели, которых можно сохранить и переводить в лояльные к нам категории. Особенно это касается \"newbe\" - это те клиенты, которые пришли относительно недавно, но сделали всего лишь одну покупку.\n",
    "\n",
    "Что касается покупателей в лояльных нам категориях, то, к сожалению, в настоящий момент их величина крайне незначительна (менее, чем 0.5%).\n",
    "\n",
    "\n",
    "С учетом полученных в результате настоящего исследования данных, можно дать следующие рекомендации отделу продаж:\n",
    "\n",
    "1. Около 8% от всех доставленных товаров были доставлены покупателям с нарушением сроков доставки. Такая значимая величина не может не повлиять на удержание наших клиентов. В первую очередь рекомендовано выяснить причины нарушения сроков доставки, т.к. в данном случае это основной риск оттока клиентов;\n",
    "\n",
    "2. Во вторую очередь необходим комплекс мероприятий, направленных на удержание новых клиентов (\"newbe\") - проработать акции, скидки, бонусы на следующую покупку;\n",
    "\n",
    "3. Аналогично необходимы мероприятия для спящих клиентов (\"sleeping\"), которые бы стимулировали их вернуться к нашим товарам в кратчайшие сроки;\n",
    "\n",
    "4. Также, по всей вероятности, для категории потерянных клиентов (\"lost\"), указанные выше меры эффективными не будут, а за счет отказа в их реализации на данном кластере клиентов можно добиться оптимизации операционных расходов и расходов на маркетинг;\n",
    "\n",
    "5. Наконец, в данных были обнаружены ошибки (нулевой вес товара, доставка неоплаченных товаров, отсутствие даты доставки доставленных товаров) - для целей более качественного последующего анализа нашей аудитории рекомендовано передать данные в соответствующее подразделение Компании на их уточнение."
   ]
  }
 ],
 "metadata": {
  "kernelspec": {
   "display_name": "Python 3 (ipykernel)",
   "language": "python",
   "name": "python3"
  },
  "language_info": {
   "codemirror_mode": {
    "name": "ipython",
    "version": 3
   },
   "file_extension": ".py",
   "mimetype": "text/x-python",
   "name": "python",
   "nbconvert_exporter": "python",
   "pygments_lexer": "ipython3",
   "version": "3.9.13"
  }
 },
 "nbformat": 4,
 "nbformat_minor": 5
}
